{
 "cells": [
  {
   "cell_type": "markdown",
   "id": "71e06c6b",
   "metadata": {},
   "source": [
    "##### Lecture 7 - strings\n",
    "- we have just created and printed out string type variable in lecture 4\n",
    "- this lecture is more about strings"
   ]
  },
  {
   "cell_type": "markdown",
   "id": "c8f4a71f",
   "metadata": {},
   "source": [
    "## Concatenate strings"
   ]
  },
  {
   "cell_type": "code",
   "execution_count": 3,
   "id": "74b4b32d",
   "metadata": {},
   "outputs": [
    {
     "name": "stdout",
     "output_type": "stream",
     "text": [
      "KokchunGiang\n"
     ]
    }
   ],
   "source": [
    "# concatenate multiple strings with + operator\n",
    "# remember + operator has another meaning when it comes to numerical variables\n",
    "\n",
    "first_name = \"Kokchun\"\n",
    "last_name = \"Giang\"\n",
    "\n",
    "#concatenate w/o space\n",
    "Full_name = first_name + last_name\n",
    "print(Full_name)\n"
   ]
  },
  {
   "cell_type": "code",
   "execution_count": 6,
   "id": "e3f5ea90",
   "metadata": {},
   "outputs": [
    {
     "name": "stdout",
     "output_type": "stream",
     "text": [
      "Kokchun Giang\n"
     ]
    }
   ],
   "source": [
    "# concatenate also with \" \"\n",
    "space=\" \"\n",
    "Full_name_space= first_name + space + last_name\n",
    "print(Full_name_)"
   ]
  },
  {
   "cell_type": "code",
   "execution_count": 5,
   "id": "5592b88d",
   "metadata": {},
   "outputs": [
    {
     "name": "stdout",
     "output_type": "stream",
     "text": [
      "Kokchun Giang\n"
     ]
    }
   ],
   "source": [
    "# concatenate also with \" \"\n",
    "Full_name_= first_name + \" \" + last_name\n",
    "print(Full_name_)"
   ]
  },
  {
   "cell_type": "code",
   "execution_count": 10,
   "id": "be6c37bc",
   "metadata": {},
   "outputs": [
    {
     "name": "stdout",
     "output_type": "stream",
     "text": [
      "Kokchun Giang is working at a company called AIgineer AB and his address is Supah cool streeeeeet\n",
      "Kokchun Giang is working at a company called AIgineer AB\n",
      "      and his address is Supah cool streeeeeet\n"
     ]
    }
   ],
   "source": [
    "# multiline f-string for concatenating many strings\n",
    "work = \"AIgineer AB\"\n",
    "Address = \"Supah cool streeeeeet\"\n",
    "# f-string with one line\n",
    "print(f\"{Full_name_space} is working at a company called {work} and his address is {Address}\")\n",
    "\n",
    "# f-string with multiline\n",
    "print(f\"\"\"{Full_name_space} is working at a company called {work}\n",
    "      and his address is {Address}\"\"\")"
   ]
  },
  {
   "cell_type": "code",
   "execution_count": 15,
   "id": "824c95c6",
   "metadata": {},
   "outputs": [
    {
     "name": "stdout",
     "output_type": "stream",
     "text": [
      "Today's fruits are: apple, orange, strawberry, \n",
      "apple\n",
      "orange\n",
      "strawberry\n"
     ]
    }
   ],
   "source": [
    "# concatenate with loop\n",
    "\n",
    "fruits_today = \"apple, \" + \"orange, \" + \"strawberry, \"\n",
    "print(f\"Today's fruits are: {fruits_today}\")\n",
    "\n",
    "fruits_today_list = [\"apple\",\"orange\",\"strawberry\"]\n",
    "\n",
    "for fruit in fruits_today_list:\n",
    "    print(fruit)"
   ]
  },
  {
   "cell_type": "markdown",
   "id": "9c51aa03",
   "metadata": {},
   "source": [
    "#### Indexing\n",
    "- an operation to access an item\n",
    "- what is an item in the context of strings? it is one of the character inside the string\n",
    "- we can use [] operator for indexing\n",
    "- slicing is also possible if we want access multiple characters\n",
    "- we can use : operator for slicing"
   ]
  },
  {
   "cell_type": "code",
   "execution_count": 18,
   "id": "ff9f97cb",
   "metadata": {},
   "outputs": [
    {
     "name": "stdout",
     "output_type": "stream",
     "text": [
      "Kokchun Giang\n",
      "The first letter of the string is: K\n",
      "The last letter of the string is: g\n"
     ]
    }
   ],
   "source": [
    "# index \n",
    "print(Full_name_space)\n",
    "print(f\"The first letter of the string is: {Full_name_space[0]}\")\n",
    "print(f\"The last letter of the string is: {Full_name_space[-1]}\")"
   ]
  },
  {
   "cell_type": "code",
   "execution_count": 28,
   "id": "32c9834e",
   "metadata": {},
   "outputs": [
    {
     "name": "stdout",
     "output_type": "stream",
     "text": [
      "The first three letters: Kok\n",
      "The last five letters: Giang\n",
      "The last five letters in reverse:gnaiG\n"
     ]
    }
   ],
   "source": [
    "# slicing from the left\n",
    "print(f\"The first three letters: {Full_name_space[0:3]}\")\n",
    "print(f\"The last five letters: {Full_name_space[-5:]}\")\n",
    "\n",
    "# slicing reversely\n",
    "print(f\"The last five letters in reverse:{Full_name_space[-1:-6:-1]}\")\n"
   ]
  },
  {
   "cell_type": "code",
   "execution_count": 31,
   "id": "517ff365",
   "metadata": {},
   "outputs": [
    {
     "name": "stdout",
     "output_type": "stream",
     "text": [
      "kkk\n",
      "ddd\n",
      "------\n",
      "ooo\n",
      "eeee\n",
      "------\n"
     ]
    }
   ],
   "source": [
    "names = [\"kkk\", \"ooo\"]\n",
    "addresses = [\"ddd\", \"eeee\"]\n",
    "\n",
    "for name, address in zip(names,addresses):\n",
    "    print(name)\n",
    "    print(address)\n",
    "    print(\"------\")\n"
   ]
  },
  {
   "cell_type": "markdown",
   "id": "6660b264",
   "metadata": {},
   "source": [
    "##### Some common examples to clean strings\n",
    "- make use of string methods\n",
    "- a good introduction of many common string methods https://www.geeksforgeeks.org/python/python-string-methods/\n",
    "- syntax of using functin on string variable\n",
    "    - `len(string_variable)`\n",
    "- syntax of using method  on string variable\n",
    "    -`string_variable.upper()`\n"
   ]
  },
  {
   "cell_type": "code",
   "execution_count": 34,
   "id": "eb9ef190",
   "metadata": {},
   "outputs": [
    {
     "name": "stdout",
     "output_type": "stream",
     "text": [
      "['Math', 'biology  ', 'cHemiStry ', ' Pr0gramming   ']\n"
     ]
    }
   ],
   "source": [
    "# splitting a string\n",
    "\n",
    "subjects =\"Math,biology  ,cHemiStry , Pr0gramming   \"\n",
    "\n",
    "subjects = subjects.split(\",\")\n",
    "print(subjects)"
   ]
  },
  {
   "cell_type": "code",
   "execution_count": null,
   "id": "ea4282a2",
   "metadata": {},
   "outputs": [
    {
     "name": "stdout",
     "output_type": "stream",
     "text": [
      "Math\n",
      "biology\n",
      "cHemiStry\n",
      "Pr0gramming\n"
     ]
    }
   ],
   "source": [
    "# strip off leading and trailing spaces\n",
    "# check out rstrip() and lstrip() as well\n",
    "for subject in subjects:\n",
    "    print(subject.strip())"
   ]
  },
  {
   "cell_type": "code",
   "execution_count": 36,
   "id": "59419f02",
   "metadata": {},
   "outputs": [
    {
     "name": "stdout",
     "output_type": "stream",
     "text": [
      "MATH\n",
      "BIOLOGY\n",
      "CHEMISTRY\n",
      "PR0GRAMMING\n"
     ]
    }
   ],
   "source": [
    "# making upper case letter\n",
    "for subject in subjects:\n",
    "    print(subject.strip().upper())"
   ]
  },
  {
   "cell_type": "code",
   "execution_count": 37,
   "id": "572c6399",
   "metadata": {},
   "outputs": [
    {
     "data": {
      "text/plain": [
       "13"
      ]
     },
     "execution_count": 37,
     "metadata": {},
     "output_type": "execute_result"
    }
   ],
   "source": [
    "# use len() function to check the lenght of a string\n",
    "len(Full_name_space)"
   ]
  },
  {
   "cell_type": "markdown",
   "id": "3096d3b4",
   "metadata": {},
   "source": [
    "##### Regular expression\n",
    "- look for a pattern\n",
    "- make use of different functions in `re` package\n",
    "- syntax of using functions from an imported package\n",
    "    - `re.findall()`\n",
    "    - `imported_package.function()`\n",
    "- check out the w3schools re tutorial to learn more symbols to form patterns"
   ]
  },
  {
   "cell_type": "code",
   "execution_count": null,
   "id": "d25a1c85",
   "metadata": {},
   "outputs": [],
   "source": [
    "import re\n"
   ]
  },
  {
   "cell_type": "code",
   "execution_count": 40,
   "id": "3c6f30ae",
   "metadata": {},
   "outputs": [
    {
     "data": {
      "text/plain": [
       "['att', 'att']"
      ]
     },
     "execution_count": 40,
     "metadata": {},
     "output_type": "execute_result"
    }
   ],
   "source": [
    "text = \"Det var en gång en katt som tog på sig en hatt.\"\n",
    "list_letter_att = re.findall(\"att\",text) #the first argument is the pattern, the second part is where to search\n",
    "list_letter_att"
   ]
  },
  {
   "cell_type": "code",
   "execution_count": null,
   "id": "5ae579a8",
   "metadata": {},
   "outputs": [
    {
     "data": {
      "text/plain": [
       "['katt', 'hatt']"
      ]
     },
     "execution_count": 41,
     "metadata": {},
     "output_type": "execute_result"
    }
   ],
   "source": [
    "list_word_att = re.findall(\".att\",text) # dot(.) added to find words containing \"att\"\n",
    "list_word_att"
   ]
  },
  {
   "cell_type": "code",
   "execution_count": 52,
   "id": "dc41dea9",
   "metadata": {},
   "outputs": [
    {
     "data": {
      "text/plain": [
       "['19950516']"
      ]
     },
     "execution_count": 52,
     "metadata": {},
     "output_type": "execute_result"
    }
   ],
   "source": [
    "personal_number = \"Ida: 19950516-2235, Berit: 890806-3212\"\n",
    "\n",
    "personal_number_eight = re.findall(r\"\\d{8}\", personal_number) # r for raw string\n",
    "personal_number_eight"
   ]
  },
  {
   "cell_type": "code",
   "execution_count": 53,
   "id": "6749bf11",
   "metadata": {},
   "outputs": [
    {
     "data": {
      "text/plain": [
       "['199505', '890806']"
      ]
     },
     "execution_count": 53,
     "metadata": {},
     "output_type": "execute_result"
    }
   ],
   "source": [
    "personal_number_six = re.findall(r\"\\d{6}\", personal_number) # r for raw string\n",
    "personal_number_six"
   ]
  },
  {
   "cell_type": "code",
   "execution_count": 55,
   "id": "976bc4bd",
   "metadata": {},
   "outputs": [
    {
     "data": {
      "text/plain": [
       "['950516-2235', '890806-3212']"
      ]
     },
     "execution_count": 55,
     "metadata": {},
     "output_type": "execute_result"
    }
   ],
   "source": [
    "personal_number_ = re.findall(r\"\\d{6}-\\d{4}\", personal_number) # r for raw string\n",
    "personal_number_"
   ]
  }
 ],
 "metadata": {
  "kernelspec": {
   "display_name": "Python 3",
   "language": "python",
   "name": "python3"
  },
  "language_info": {
   "codemirror_mode": {
    "name": "ipython",
    "version": 3
   },
   "file_extension": ".py",
   "mimetype": "text/x-python",
   "name": "python",
   "nbconvert_exporter": "python",
   "pygments_lexer": "ipython3",
   "version": "3.12.10"
  }
 },
 "nbformat": 4,
 "nbformat_minor": 5
}
