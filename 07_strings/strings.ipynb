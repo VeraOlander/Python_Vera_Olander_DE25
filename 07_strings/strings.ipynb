{
 "cells": [
  {
   "cell_type": "markdown",
   "id": "71e06c6b",
   "metadata": {},
   "source": [
    "##### Lecture 7 - strings\n",
    "- we have just created and printed out string type variable in lecture 4\n",
    "- this lecture is more about strings"
   ]
  },
  {
   "cell_type": "markdown",
   "id": "c8f4a71f",
   "metadata": {},
   "source": [
    "## Concatenate strings"
   ]
  },
  {
   "cell_type": "code",
   "execution_count": 3,
   "id": "74b4b32d",
   "metadata": {},
   "outputs": [
    {
     "name": "stdout",
     "output_type": "stream",
     "text": [
      "KokchunGiang\n"
     ]
    }
   ],
   "source": [
    "# concatenate multiple strings with + operator\n",
    "# remember + operator has another meaning when it comes to numerical variables\n",
    "\n",
    "first_name = \"Kokchun\"\n",
    "last_name = \"Giang\"\n",
    "\n",
    "#concatenate w/o space\n",
    "Full_name = first_name + last_name\n",
    "print(Full_name)\n"
   ]
  },
  {
   "cell_type": "code",
   "execution_count": 6,
   "id": "e3f5ea90",
   "metadata": {},
   "outputs": [
    {
     "name": "stdout",
     "output_type": "stream",
     "text": [
      "Kokchun Giang\n"
     ]
    }
   ],
   "source": [
    "# concatenate also with \" \"\n",
    "space=\" \"\n",
    "Full_name_space= first_name + space + last_name\n",
    "print(Full_name_)"
   ]
  },
  {
   "cell_type": "code",
   "execution_count": 5,
   "id": "5592b88d",
   "metadata": {},
   "outputs": [
    {
     "name": "stdout",
     "output_type": "stream",
     "text": [
      "Kokchun Giang\n"
     ]
    }
   ],
   "source": [
    "# concatenate also with \" \"\n",
    "Full_name_= first_name + \" \" + last_name\n",
    "print(Full_name_)"
   ]
  },
  {
   "cell_type": "code",
   "execution_count": 10,
   "id": "be6c37bc",
   "metadata": {},
   "outputs": [
    {
     "name": "stdout",
     "output_type": "stream",
     "text": [
      "Kokchun Giang is working at a company called AIgineer AB and his address is Supah cool streeeeeet\n",
      "Kokchun Giang is working at a company called AIgineer AB\n",
      "      and his address is Supah cool streeeeeet\n"
     ]
    }
   ],
   "source": [
    "# multiline f-string for concatenating many strings\n",
    "work = \"AIgineer AB\"\n",
    "Address = \"Supah cool streeeeeet\"\n",
    "# f-string with one line\n",
    "print(f\"{Full_name_space} is working at a company called {work} and his address is {Address}\")\n",
    "\n",
    "# f-string with multiline\n",
    "print(f\"\"\"{Full_name_space} is working at a company called {work}\n",
    "      and his address is {Address}\"\"\")"
   ]
  },
  {
   "cell_type": "code",
   "execution_count": 15,
   "id": "824c95c6",
   "metadata": {},
   "outputs": [
    {
     "name": "stdout",
     "output_type": "stream",
     "text": [
      "Today's fruits are: apple, orange, strawberry, \n",
      "apple\n",
      "orange\n",
      "strawberry\n"
     ]
    }
   ],
   "source": [
    "# concatenate with loop\n",
    "\n",
    "fruits_today = \"apple, \" + \"orange, \" + \"strawberry, \"\n",
    "print(f\"Today's fruits are: {fruits_today}\")\n",
    "\n",
    "fruits_today_list = [\"apple\",\"orange\",\"strawberry\"]\n",
    "\n",
    "for fruit in fruits_today_list:\n",
    "    print(fruit)"
   ]
  }
 ],
 "metadata": {
  "kernelspec": {
   "display_name": "Python 3",
   "language": "python",
   "name": "python3"
  },
  "language_info": {
   "codemirror_mode": {
    "name": "ipython",
    "version": 3
   },
   "file_extension": ".py",
   "mimetype": "text/x-python",
   "name": "python",
   "nbconvert_exporter": "python",
   "pygments_lexer": "ipython3",
   "version": "3.12.10"
  }
 },
 "nbformat": 4,
 "nbformat_minor": 5
}
