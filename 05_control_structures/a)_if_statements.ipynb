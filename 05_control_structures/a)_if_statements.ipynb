{
 "cells": [
  {
   "cell_type": "markdown",
   "id": "dd048f91",
   "metadata": {},
   "source": [
    "# if statement\n",
    "- one way to control the flow of running the scripts\n",
    "- use \"if statement\" for controlling the flow based on conditions"
   ]
  },
  {
   "cell_type": "markdown",
   "id": "820372bc",
   "metadata": {},
   "source": [
    "##### Example of 2 scenarios \n",
    "\n",
    "- based on the user's input of age print out a message whether user can watch a scary movie"
   ]
  },
  {
   "cell_type": "code",
   "execution_count": 6,
   "id": "a6a3e1fb",
   "metadata": {},
   "outputs": [
    {
     "name": "stdout",
     "output_type": "stream",
     "text": [
      "12\n"
     ]
    }
   ],
   "source": [
    "age = int(input (\"Enter your age: \"))\n",
    "print(age)"
   ]
  },
  {
   "cell_type": "code",
   "execution_count": 7,
   "id": "7f7d3af8",
   "metadata": {},
   "outputs": [
    {
     "data": {
      "text/plain": [
       "int"
      ]
     },
     "execution_count": 7,
     "metadata": {},
     "output_type": "execute_result"
    }
   ],
   "source": [
    "#check the data type of age variable\n",
    "type(age)"
   ]
  },
  {
   "cell_type": "code",
   "execution_count": 8,
   "id": "710cd958",
   "metadata": {},
   "outputs": [
    {
     "data": {
      "text/plain": [
       "int"
      ]
     },
     "execution_count": 8,
     "metadata": {},
     "output_type": "execute_result"
    }
   ],
   "source": [
    "age_limit=15\n",
    "type(age_limit)"
   ]
  },
  {
   "cell_type": "code",
   "execution_count": 9,
   "id": "ddf032de",
   "metadata": {},
   "outputs": [
    {
     "name": "stdout",
     "output_type": "stream",
     "text": [
      "Sorry, you're too young to watch this\n",
      "Watch a cartoon instead\n"
     ]
    }
   ],
   "source": [
    "#comparing age and age_limit, setting uu the condition for if statement\n",
    "if age<age_limit:\n",
    "    print(\"Sorry, you're too young to watch this\")\n",
    "    print(\"Watch a cartoon instead\")\n",
    "else:\n",
    "    print(\"Enjoy this scary movie\")"
   ]
  },
  {
   "cell_type": "markdown",
   "id": "e40b7e4c",
   "metadata": {},
   "source": [
    "##### Example of more than 2 scenarios\n",
    "- use if - elif - else statement\n",
    "- the following example shows how to doze of medicine depending on the patient's weight"
   ]
  },
  {
   "cell_type": "code",
   "execution_count": 12,
   "id": "d7dde34f",
   "metadata": {},
   "outputs": [
    {
     "data": {
      "text/plain": [
       "float"
      ]
     },
     "execution_count": 12,
     "metadata": {},
     "output_type": "execute_result"
    }
   ],
   "source": [
    "weight = float(input(\"What is your weight in kg: \"))\n",
    "type(weight)"
   ]
  },
  {
   "cell_type": "code",
   "execution_count": 13,
   "id": "0c415ae6",
   "metadata": {},
   "outputs": [
    {
     "name": "stdout",
     "output_type": "stream",
     "text": [
      "Patient should take 500mg\n"
     ]
    }
   ],
   "source": [
    "if weight<20:\n",
    "    #python will first check this condition\n",
    "    #if yes - run this part of this code and stop\n",
    "    print(\"Patient should take 500mg\")\n",
    "elif weight<40:\n",
    "    #python will next check this condition\n",
    "    #if yes - run this part of this code and stop \n",
    "    print(\"Patient should take 750mg\")\n",
    "else:\n",
    "    # if the two scenarios above are not met, python will run this part of the code and stop\n",
    "    print(\"Patient should take 1000mg\")"
   ]
  },
  {
   "cell_type": "markdown",
   "id": "b619667e",
   "metadata": {},
   "source": [
    "##### Modulo operation (%)\n",
    "- return the reminder of a division\n",
    "- for example 5%3=2, 9%3=0"
   ]
  },
  {
   "cell_type": "code",
   "execution_count": 1,
   "id": "75432898",
   "metadata": {},
   "outputs": [],
   "source": [
    "number = 5"
   ]
  },
  {
   "cell_type": "code",
   "execution_count": 2,
   "id": "19753ad4",
   "metadata": {},
   "outputs": [
    {
     "name": "stdout",
     "output_type": "stream",
     "text": [
      "It's an odd number and the value assigned to it is 5\n"
     ]
    }
   ],
   "source": [
    "# print out whether the value assigned to the variable is odd or even \n",
    "if number % 2 == 0: #== is the equality operator\n",
    "    print(f\"It's an even number and the value assigned to it is {number}\")\n",
    "else:\n",
    "    print(f\"It's an odd number and the value assigned to it is {number}\")    "
   ]
  },
  {
   "cell_type": "markdown",
   "id": "554dac49",
   "metadata": {},
   "source": [
    "##### Nested if statement\n",
    "- when we have another if statement under a scenario\n",
    "- you need to think if nested if statement produces clean codes"
   ]
  },
  {
   "cell_type": "code",
   "execution_count": 8,
   "id": "a913156e",
   "metadata": {},
   "outputs": [],
   "source": [
    "number = int(input(\"Enter a number\"))"
   ]
  },
  {
   "cell_type": "code",
   "execution_count": 9,
   "id": "9e800116",
   "metadata": {},
   "outputs": [
    {
     "name": "stdout",
     "output_type": "stream",
     "text": [
      "This is not divisible by 5. No need to check more\n"
     ]
    }
   ],
   "source": [
    "# if a number is divisible by 5, further check if it is also divisible by 2 (even number)\n",
    "if number %5 == 0:\n",
    "    print(\"This is divisible by 5. Check if it's also even\")\n",
    "    if number %2 == 0:\n",
    "        print (\"This is an even number\")\n",
    "    else:\n",
    "        print (\"This is an odd number\")\n",
    "else:\n",
    "    print(\"This is not divisible by 5. No need to check more\")"
   ]
  },
  {
   "cell_type": "markdown",
   "id": "16d13fd6",
   "metadata": {},
   "source": [
    "##### One line if statement\n",
    "-  you write one line if statement, usually when refractoring your original if statement with multiple lines of codes\n",
    "- you need to think about if a one line  if statement can make your code better, is it cleaner and more readable?"
   ]
  },
  {
   "cell_type": "code",
   "execution_count": 10,
   "id": "d41b8440",
   "metadata": {},
   "outputs": [],
   "source": [
    "name = \"Olivia\"\n",
    "gender = \"female\"\n",
    "age = 7"
   ]
  },
  {
   "cell_type": "code",
   "execution_count": 19,
   "id": "fe49360e",
   "metadata": {},
   "outputs": [
    {
     "name": "stdout",
     "output_type": "stream",
     "text": [
      "There is  letter o in the name\n"
     ]
    }
   ],
   "source": [
    "# one line of code\n",
    "if \"o\" in name.lower():\n",
    "    print (\"There is  letter o in the name\")"
   ]
  },
  {
   "cell_type": "markdown",
   "id": "c51728ab",
   "metadata": {},
   "source": [
    "#### group excercise"
   ]
  },
  {
   "cell_type": "code",
   "execution_count": 2,
   "id": "97df2bcc",
   "metadata": {},
   "outputs": [
    {
     "name": "stdout",
     "output_type": "stream",
     "text": [
      "The final price for your purchase is 35.0 sek\n"
     ]
    }
   ],
   "source": [
    "base_price_sek = 10\n",
    "entitled_for_discount = input(\"Are you a student/pensioner/none?\")\n",
    "apples_amount = int(input(\"How many apples do yo want to buy\"))\n",
    "student_price = 0.7*base_price_sek* apples_amount\n",
    "pensioner_price=0.5*base_price_sek*apples_amount\n",
    "standard_price=base_price_sek*apples_amount\n",
    "\n",
    "if entitled_for_discount ==\"student\":\n",
    "    print(f\"The final price for your purchase is {student_price} sek\")\n",
    "elif entitled_for_discount ==\"pensioner\":\n",
    "    print(f\"The final price for your purchase is {pensioner_price} sek\")\n",
    "else:\n",
    "    print(f\"The final price for your purchase is {standard_price} sek\")\n"
   ]
  }
 ],
 "metadata": {
  "kernelspec": {
   "display_name": "Python_Vera_Olander_DE25",
   "language": "python",
   "name": "python3"
  },
  "language_info": {
   "codemirror_mode": {
    "name": "ipython",
    "version": 3
   },
   "file_extension": ".py",
   "mimetype": "text/x-python",
   "name": "python",
   "nbconvert_exporter": "python",
   "pygments_lexer": "ipython3",
   "version": "3.12.10"
  }
 },
 "nbformat": 4,
 "nbformat_minor": 5
}
