{
 "cells": [
  {
   "cell_type": "markdown",
   "id": "4a91a1f6",
   "metadata": {},
   "source": [
    "####Lecture 5b - while loop\n",
    "- loop through the same block of codes for several times\n",
    "- number of looping is not known when starting the loop; depends on the condition"
   ]
  },
  {
   "cell_type": "code",
   "execution_count": 18,
   "id": "db11e98f",
   "metadata": {},
   "outputs": [
    {
     "name": "stdout",
     "output_type": "stream",
     "text": [
      "0\n",
      "1\n",
      "2\n",
      "3\n",
      "4\n"
     ]
    }
   ],
   "source": [
    "# a simple example\n",
    "i=0\n",
    "while i<5: #repeat multiple times until' the condition is not met\n",
    "    print (i)\n",
    "    i+=1 # += is similar to =, also assignment operator, it does i=i+2"
   ]
  },
  {
   "cell_type": "markdown",
   "id": "4f6c23ab",
   "metadata": {},
   "source": [
    "##### Example of oil leakage\n",
    "- in year 0 we have 80.000 birds\n",
    "- due to oil leakage, 50% will die every year (nr of dead birds is not an absolute number)\n",
    "- when will the number become 8.000?\n",
    "- in this example we dont't know how many years will pass to reach this number"
   ]
  },
  {
   "cell_type": "code",
   "execution_count": 17,
   "id": "d1614e0d",
   "metadata": {},
   "outputs": [
    {
     "name": "stdout",
     "output_type": "stream",
     "text": [
      "Currently this is year 0 and the number of birds is 80000\n",
      "At the end of year 0, the number of birds decreased to 40000.0\n",
      "-----------------------\n",
      "Currently this is year 1 and the number of birds is 40000.0\n",
      "At the end of year 1, the number of birds decreased to 20000.0\n",
      "-----------------------\n",
      "Currently this is year 2 and the number of birds is 20000.0\n",
      "At the end of year 2, the number of birds decreased to 10000.0\n",
      "-----------------------\n",
      "Currently this is year 3 and the number of birds is 10000.0\n",
      "At the end of year 3, the number of birds decreased to 5000.0\n",
      "-----------------------\n",
      "it takes 4 years for the number of birds to drop to 8000\n"
     ]
    }
   ],
   "source": [
    "# initial value for the year and birds variables \n",
    "birds = 80000\n",
    "year = 0\n",
    "while birds>8000: #provide a condition, not a number of loops\n",
    "    print(f\"Currently this is year {year} and the number of birds is {birds}\")\n",
    "    birds/=2 # use the assignment operator /= to simplify the code\n",
    "    print (f\"At the end of year {year}, the number of birds decreased to {birds}\")\n",
    "    print(\"-----------------------\")\n",
    "    year+=1\n",
    "\n",
    "print (f\"it takes {year} years for the number of birds to drop to 8000\")"
   ]
  },
  {
   "cell_type": "markdown",
   "id": "70a7d692",
   "metadata": {},
   "source": [
    "##### Infinite while loop and break statement\n",
    "- the special thing about an infinite while loop is that the condition is always true\n",
    "- loop through the same block of codes for several times\n",
    "- number of loops is not known when starting the loop; depends on the condition\n",
    "- instead of having the condition in the beginning of the loop, the condition is evaluated within the block of codes that we want to repeat\n",
    "- the motivation/use case: whether the condition is met will be decided during iteration"
   ]
  },
  {
   "cell_type": "code",
   "execution_count": 20,
   "id": "43f72008",
   "metadata": {},
   "outputs": [
    {
     "name": "stdout",
     "output_type": "stream",
     "text": [
      "0\n",
      "1\n",
      "2\n",
      "3\n",
      "4\n"
     ]
    }
   ],
   "source": [
    "# turning a simple example above into an infinite while loop\n",
    "i=0\n",
    "while True:\n",
    "    print(i)\n",
    "    i+=1\n",
    "\n",
    "    if i>=5: #this is the same as saying when i is bigger than 4\n",
    "        break\n",
    "    "
   ]
  }
 ],
 "metadata": {
  "kernelspec": {
   "display_name": "Python_Vera_Olander_DE25",
   "language": "python",
   "name": "python3"
  },
  "language_info": {
   "codemirror_mode": {
    "name": "ipython",
    "version": 3
   },
   "file_extension": ".py",
   "mimetype": "text/x-python",
   "name": "python",
   "nbconvert_exporter": "python",
   "pygments_lexer": "ipython3",
   "version": "3.12.10"
  }
 },
 "nbformat": 4,
 "nbformat_minor": 5
}
