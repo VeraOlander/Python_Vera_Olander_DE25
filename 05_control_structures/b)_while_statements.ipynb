{
 "cells": [
  {
   "cell_type": "markdown",
   "id": "4a91a1f6",
   "metadata": {},
   "source": [
    "###Lecture 5b - while loop\n",
    "- loop through the same block of codes for several times\n",
    "- number of looping is known"
   ]
  },
  {
   "cell_type": "code",
   "execution_count": null,
   "id": "db11e98f",
   "metadata": {},
   "outputs": [
    {
     "name": "stdout",
     "output_type": "stream",
     "text": [
      "0\n",
      "1\n",
      "2\n",
      "3\n",
      "4\n"
     ]
    }
   ],
   "source": [
    "# a simple example\n",
    "i=0\n",
    "while i<5: #repeat multiple times untill' the condition is not met\n",
    "    print (i)\n",
    "    i+=1"
   ]
  }
 ],
 "metadata": {
  "kernelspec": {
   "display_name": "Python_Vera_Olander_DE25",
   "language": "python",
   "name": "python3"
  },
  "language_info": {
   "codemirror_mode": {
    "name": "ipython",
    "version": 3
   },
   "file_extension": ".py",
   "mimetype": "text/x-python",
   "name": "python",
   "nbconvert_exporter": "python",
   "pygments_lexer": "ipython3",
   "version": "3.12.10"
  }
 },
 "nbformat": 4,
 "nbformat_minor": 5
}
