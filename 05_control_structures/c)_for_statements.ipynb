{
 "cells": [
  {
   "cell_type": "markdown",
   "id": "96e57384",
   "metadata": {},
   "source": [
    "####Lecture 5c - for loop\n",
    "- loop through the same block of codes for several times\n",
    "- number of looping is known\n"
   ]
  },
  {
   "cell_type": "code",
   "execution_count": 2,
   "id": "b8e7fbe7",
   "metadata": {},
   "outputs": [
    {
     "name": "stdout",
     "output_type": "stream",
     "text": [
      "0\n",
      "1\n",
      "2\n",
      "3\n",
      "4\n"
     ]
    }
   ],
   "source": [
    "# a simple example \n",
    "for i in range(5): #range(n) returns numbers from 0 to n-1\n",
    "    print(i)"
   ]
  },
  {
   "cell_type": "markdown",
   "id": "3a31b6fa",
   "metadata": {},
   "source": [
    "### range() function\n",
    "- with only one argument, like range (5), end argument\n",
    "- with three arguments, like range (1,5,2), start (1), end (5-1), step argument (2)"
   ]
  },
  {
   "cell_type": "code",
   "execution_count": 1,
   "id": "435ff3b2",
   "metadata": {},
   "outputs": [
    {
     "name": "stdout",
     "output_type": "stream",
     "text": [
      "1\n",
      "3\n"
     ]
    }
   ],
   "source": [
    "# an example with three arguments \n",
    "for i in range(1,5,2):\n",
    "    print (i)"
   ]
  },
  {
   "cell_type": "code",
   "execution_count": 2,
   "id": "50fa0d80",
   "metadata": {},
   "outputs": [
    {
     "name": "stdout",
     "output_type": "stream",
     "text": [
      "1 3 "
     ]
    }
   ],
   "source": [
    "#we want to change the default setting of print() function to not start a newline\n",
    "for i in range(1,5,2):\n",
    "    print(i, end=\" \")"
   ]
  },
  {
   "cell_type": "markdown",
   "id": "9893c62f",
   "metadata": {},
   "source": [
    "### random module"
   ]
  },
  {
   "cell_type": "code",
   "execution_count": 1,
   "id": "c8b70c2e",
   "metadata": {},
   "outputs": [],
   "source": [
    "import random as rnd"
   ]
  },
  {
   "cell_type": "code",
   "execution_count": null,
   "metadata": {},
   "outputs": [
    {
     "data": {
      "text/plain": [
       "4"
      ]
     },
     "execution_count": 4,
     "metadata": {},
     "output_type": "execute_result"
    }
   ],
   "source": [
    "# generate a dice result from one throw\n",
    "# also work on dice excercise to practice the use of random module\n",
    "dice_result=rnd.randint(1,6) # use the alias.when want to use a function from this module \n",
    "dice_result"
   ]
  },
  {
   "cell_type": "markdown",
   "id": "d81ea4b5",
   "metadata": {},
   "source": [
    "#### loop through a list"
   ]
  },
  {
   "cell_type": "code",
   "execution_count": null,
   "id": "61c69042",
   "metadata": {},
   "outputs": [
    {
     "name": "stdout",
     "output_type": "stream",
     "text": [
      "I like to eat apple\n",
      "I like to eat orange\n",
      "I like to eat grape\n"
     ]
    }
   ],
   "source": [
    "# list is a collection of items/values/data\n",
    "fruits = [\"apple\", \"orange\", \"grape\"]\n",
    "\n",
    "for fruit in fruits: # refers to a specific list,fruit is an intermediate variable\n",
    "    print(f\"I like to eat {fruit}\")"
   ]
  },
  {
   "cell_type": "markdown",
   "id": "bd20976e",
   "metadata": {},
   "source": [
    "#### example of pythonic code\n",
    "- a classic example when writing a loop with index\n",
    "- problem solve: loop through the fruits list and print out the index for each fruit"
   ]
  },
  {
   "cell_type": "code",
   "execution_count": 7,
   "id": "dae3cd4b",
   "metadata": {},
   "outputs": [
    {
     "name": "stdout",
     "output_type": "stream",
     "text": [
      "1. apple\n",
      "2. orange\n",
      "3. grape\n"
     ]
    }
   ],
   "source": [
    "for i, fruit in enumerate(fruits, 1):\n",
    "    print(f\"{i}. {fruit}\")"
   ]
  },
  {
   "cell_type": "code",
   "execution_count": null,
   "id": "2849861d",
   "metadata": {},
   "outputs": [
    {
     "name": "stdout",
     "output_type": "stream",
     "text": [
      "My favourite fruits are:\n",
      "1. apple\n",
      "2. orange\n",
      "3. grape\n",
      "4. strawberry\n"
     ]
    }
   ],
   "source": [
    "# w/o enumerate - my solution of the task\n",
    "fruits = [\"apple\", \"orange\", \"grape\",\"strawberry\"]\n",
    "print(\"My favourite fruits are:\")\n",
    "\n",
    "i=1\n",
    "while i-1<len(fruits):\n",
    "    for fruit in fruits:\n",
    "        print(f\"{i}. {fruit}\")\n",
    "        i+=1"
   ]
  },
  {
   "cell_type": "code",
   "execution_count": null,
   "id": "e130b444",
   "metadata": {},
   "outputs": [
    {
     "name": "stdout",
     "output_type": "stream",
     "text": [
      "1. apple\n",
      "2. orange\n",
      "3. grape\n",
      "4. strawberry\n"
     ]
    }
   ],
   "source": [
    "# w/o enumerate - Debbie solution\n",
    "i=1\n",
    "for fruit in fruits:\n",
    "    print(f\"{i}. {fruit}\")\n",
    "    i+=1"
   ]
  }
 ],
 "metadata": {
  "kernelspec": {
   "display_name": "Python_Vera_Olander_DE25",
   "language": "python",
   "name": "python3"
  },
  "language_info": {
   "codemirror_mode": {
    "name": "ipython",
    "version": 3
   },
   "file_extension": ".py",
   "mimetype": "text/x-python",
   "name": "python",
   "nbconvert_exporter": "python",
   "pygments_lexer": "ipython3",
   "version": "3.12.10"
  }
 },
 "nbformat": 4,
 "nbformat_minor": 5
}
