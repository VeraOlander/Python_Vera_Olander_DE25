{
 "cells": [
  {
   "cell_type": "markdown",
   "id": "96e57384",
   "metadata": {},
   "source": [
    "####Lecture 5c - for loop\n",
    "- loop through the same block of codes for several times\n",
    "- number of looping is known\n"
   ]
  },
  {
   "cell_type": "code",
   "execution_count": 2,
   "id": "b8e7fbe7",
   "metadata": {},
   "outputs": [
    {
     "name": "stdout",
     "output_type": "stream",
     "text": [
      "0\n",
      "1\n",
      "2\n",
      "3\n",
      "4\n"
     ]
    }
   ],
   "source": [
    "# a simple example \n",
    "for i in range(5): #range(n) returns numbers from 0 to n-1\n",
    "    print(i)"
   ]
  },
  {
   "cell_type": "markdown",
   "id": "3a31b6fa",
   "metadata": {},
   "source": [
    "### range() function\n",
    "- with only one argument, like range (5), end argument\n",
    "- with three arguments, like range (1,5,2), start (1), end (5-1), step argument (2)"
   ]
  },
  {
   "cell_type": "code",
   "execution_count": 1,
   "id": "435ff3b2",
   "metadata": {},
   "outputs": [
    {
     "name": "stdout",
     "output_type": "stream",
     "text": [
      "1\n",
      "3\n"
     ]
    }
   ],
   "source": [
    "# an example with three arguments \n",
    "for i in range(1,5,2):\n",
    "    print (i)"
   ]
  },
  {
   "cell_type": "code",
   "execution_count": 2,
   "id": "50fa0d80",
   "metadata": {},
   "outputs": [
    {
     "name": "stdout",
     "output_type": "stream",
     "text": [
      "1 3 "
     ]
    }
   ],
   "source": [
    "#we want to change the default setting of print() function to not start a newline\n",
    "for i in range(1,5,2):\n",
    "    print(i, end=\" \")"
   ]
  },
  {
   "cell_type": "markdown",
   "id": "9893c62f",
   "metadata": {},
   "source": [
    "### random module"
   ]
  },
  {
   "cell_type": "markdown",
   "id": "d81ea4b5",
   "metadata": {},
   "source": [
    "#### loop through a list"
   ]
  },
  {
   "cell_type": "markdown",
   "id": "bd20976e",
   "metadata": {},
   "source": [
    "#### example of pythonic code"
   ]
  }
 ],
 "metadata": {
  "kernelspec": {
   "display_name": "Python_Vera_Olander_DE25",
   "language": "python",
   "name": "python3"
  },
  "language_info": {
   "codemirror_mode": {
    "name": "ipython",
    "version": 3
   },
   "file_extension": ".py",
   "mimetype": "text/x-python",
   "name": "python",
   "nbconvert_exporter": "python",
   "pygments_lexer": "ipython3",
   "version": "3.12.10"
  }
 },
 "nbformat": 4,
 "nbformat_minor": 5
}
