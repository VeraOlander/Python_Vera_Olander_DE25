{
 "cells": [
  {
   "cell_type": "markdown",
   "id": "96e57384",
   "metadata": {},
   "source": [
    "####Lecture 5c - for loop\n",
    "- loop through the same block of codes for several times\n",
    "- number of looping is known\n"
   ]
  },
  {
   "cell_type": "code",
   "execution_count": 2,
   "id": "b8e7fbe7",
   "metadata": {},
   "outputs": [
    {
     "name": "stdout",
     "output_type": "stream",
     "text": [
      "0\n",
      "1\n",
      "2\n",
      "3\n",
      "4\n"
     ]
    }
   ],
   "source": [
    "# a simple example \n",
    "for i in range(5): #range(n) returns numbers from 0 to n-1\n",
    "    print(i)"
   ]
  }
 ],
 "metadata": {
  "kernelspec": {
   "display_name": "Python_Vera_Olander_DE25",
   "language": "python",
   "name": "python3"
  },
  "language_info": {
   "codemirror_mode": {
    "name": "ipython",
    "version": 3
   },
   "file_extension": ".py",
   "mimetype": "text/x-python",
   "name": "python",
   "nbconvert_exporter": "python",
   "pygments_lexer": "ipython3",
   "version": "3.12.10"
  }
 },
 "nbformat": 4,
 "nbformat_minor": 5
}
