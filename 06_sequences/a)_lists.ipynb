{
 "cells": [
  {
   "cell_type": "markdown",
   "id": "2a289f80",
   "metadata": {},
   "source": [
    "##### Lecture 6a - List\n",
    "- one of the collection data type/iterables\n",
    "- used for storing several items in a variable\n",
    "- iterable\n",
    "- for collection data type, we will be learning :\n",
    "    - characteristics\n",
    "    - available operation"
   ]
  },
  {
   "cell_type": "markdown",
   "id": "e296e8fa",
   "metadata": {},
   "source": [
    "### Create a list "
   ]
  },
  {
   "cell_type": "code",
   "execution_count": 18,
   "id": "9ab10d0b",
   "metadata": {},
   "outputs": [],
   "source": [
    "tv_shows = [\"Antikrundan\", \"Mästerkockarna\", \"Aktuellt\", \"Talang\"]"
   ]
  },
  {
   "cell_type": "markdown",
   "id": "2b8e4985",
   "metadata": {},
   "source": [
    "#### Access an item\n",
    "- index begins with 0\n",
    "- use [] to access an item with a certain index\n",
    "- by default the first item begins from the left"
   ]
  },
  {
   "cell_type": "code",
   "execution_count": 19,
   "id": "cca5ce6c",
   "metadata": {},
   "outputs": [
    {
     "data": {
      "text/plain": [
       "'Mästerkockarna'"
      ]
     },
     "execution_count": 19,
     "metadata": {},
     "output_type": "execute_result"
    }
   ],
   "source": [
    "# to access the second item\n",
    "tv_shows[1]"
   ]
  },
  {
   "cell_type": "code",
   "execution_count": 20,
   "id": "7b0d6ba4",
   "metadata": {},
   "outputs": [
    {
     "data": {
      "text/plain": [
       "'Talang'"
      ]
     },
     "execution_count": 20,
     "metadata": {},
     "output_type": "execute_result"
    }
   ],
   "source": [
    "# to access the last item - by counting from the left\n",
    "last_index = len(tv_shows)-1\n",
    "\n",
    "tv_shows[last_index]"
   ]
  },
  {
   "cell_type": "code",
   "execution_count": 21,
   "id": "fa1370b7",
   "metadata": {},
   "outputs": [
    {
     "data": {
      "text/plain": [
       "'Aktuellt'"
      ]
     },
     "execution_count": 21,
     "metadata": {},
     "output_type": "execute_result"
    }
   ],
   "source": [
    "# to access the last item - by counting from the right\n",
    "\n",
    "tv_shows[-2]"
   ]
  },
  {
   "cell_type": "markdown",
   "id": "d02c8b29",
   "metadata": {},
   "source": [
    "#### Iterate through a list"
   ]
  },
  {
   "cell_type": "code",
   "execution_count": 22,
   "id": "2d6fc0e5",
   "metadata": {},
   "outputs": [
    {
     "name": "stdout",
     "output_type": "stream",
     "text": [
      "Antikrundan\n",
      "Mästerkockarna\n",
      "Aktuellt\n",
      "Talang\n"
     ]
    }
   ],
   "source": [
    "for tv_show in tv_shows:\n",
    "    print(tv_show)"
   ]
  },
  {
   "cell_type": "markdown",
   "id": "d9e16b38",
   "metadata": {},
   "source": [
    "##### Change the value of a list item"
   ]
  },
  {
   "cell_type": "code",
   "execution_count": 23,
   "id": "be590b7c",
   "metadata": {},
   "outputs": [
    {
     "data": {
      "text/plain": [
       "['Vetenskapens värld', 'Mästerkockarna', 'Aktuellt', 'Talang']"
      ]
     },
     "execution_count": 23,
     "metadata": {},
     "output_type": "execute_result"
    }
   ],
   "source": [
    "# assign a new value to the first item in the list\n",
    "tv_shows[0]=\"Vetenskapens värld\"\n",
    "tv_shows"
   ]
  },
  {
   "cell_type": "markdown",
   "id": "d194f5f4",
   "metadata": {},
   "source": [
    "##### Append new value to a list\n",
    "- add a new item as the last item "
   ]
  },
  {
   "cell_type": "code",
   "execution_count": 24,
   "id": "5298f85c",
   "metadata": {},
   "outputs": [
    {
     "data": {
      "text/plain": [
       "['Vetenskapens värld', 'Mästerkockarna', 'Aktuellt', 'Talang', 'Pokemon']"
      ]
     },
     "execution_count": 24,
     "metadata": {},
     "output_type": "execute_result"
    }
   ],
   "source": [
    "# tv_shows is a list, therefore it can use a method called .append()\n",
    "tv_shows.append(\"Pokemon\")\n",
    "# OOP (class, object, method attributes, etc)\n",
    "tv_shows"
   ]
  },
  {
   "cell_type": "markdown",
   "id": "389274ef",
   "metadata": {},
   "source": [
    "##### Access multiple items\n",
    "\n",
    "- make use of slicing operator"
   ]
  },
  {
   "cell_type": "code",
   "execution_count": 25,
   "id": "8bc0a09a",
   "metadata": {},
   "outputs": [
    {
     "data": {
      "text/plain": [
       "['Vetenskapens värld', 'Mästerkockarna']"
      ]
     },
     "execution_count": 25,
     "metadata": {},
     "output_type": "execute_result"
    }
   ],
   "source": [
    "# closing boundary on the left and opening boundary on the right\n",
    "# from the item with index 0 inclusive up to item with index (2-1)\n",
    "tv_shows[0:2]"
   ]
  },
  {
   "cell_type": "markdown",
   "metadata": {},
   "source": [
    "##### Sort a list"
   ]
  },
  {
   "cell_type": "code",
   "execution_count": 26,
   "id": "d4c63ee2",
   "metadata": {},
   "outputs": [
    {
     "data": {
      "text/plain": [
       "['Aktuellt', 'Mästerkockarna', 'Pokemon', 'Talang', 'Vetenskapens värld']"
      ]
     },
     "execution_count": 26,
     "metadata": {},
     "output_type": "execute_result"
    }
   ],
   "source": [
    "tv_shows.sort()\n",
    "tv_shows"
   ]
  },
  {
   "cell_type": "code",
   "execution_count": 29,
   "id": "4aeddb04",
   "metadata": {},
   "outputs": [
    {
     "data": {
      "text/plain": [
       "['Vetenskapens värld', 'Talang', 'Pokemon', 'Mästerkockarna', 'Aktuellt']"
      ]
     },
     "execution_count": 29,
     "metadata": {},
     "output_type": "execute_result"
    }
   ],
   "source": [
    "# sort by descending order\n",
    "tv_shows.sort(reverse=True)\n",
    "tv_shows"
   ]
  },
  {
   "cell_type": "code",
   "execution_count": 30,
   "id": "35166479",
   "metadata": {},
   "outputs": [
    {
     "data": {
      "text/plain": [
       "'Vetenskapens värld'"
      ]
     },
     "execution_count": 30,
     "metadata": {},
     "output_type": "execute_result"
    }
   ],
   "source": [
    "# note that with the sorting, index of items will be changed accordingly\n",
    "tv_shows[0]\n"
   ]
  },
  {
   "cell_type": "markdown",
   "id": "44969b1d",
   "metadata": {},
   "source": [
    "##### Create a list by list comprehensions \n",
    "\n",
    "- clean code to create list from another iterable"
   ]
  },
  {
   "cell_type": "code",
   "execution_count": null,
   "id": "ad4b2fbf",
   "metadata": {},
   "outputs": [
    {
     "data": {
      "text/plain": [
       "[1, 8, 27, 64, 125, 216, 343, 512, 729]"
      ]
     },
     "execution_count": 31,
     "metadata": {},
     "output_type": "execute_result"
    }
   ],
   "source": [
    "# the value for each item in the list cubes is actully a calculation from items in an existing iterable (i.e. range())\n",
    "cubes = [ x**3 for x in range(1,10)]\n",
    "cubes\n"
   ]
  }
 ],
 "metadata": {
  "kernelspec": {
   "display_name": "Python_Vera_Olander_DE25",
   "language": "python",
   "name": "python3"
  },
  "language_info": {
   "codemirror_mode": {
    "name": "ipython",
    "version": 3
   },
   "file_extension": ".py",
   "mimetype": "text/x-python",
   "name": "python",
   "nbconvert_exporter": "python",
   "pygments_lexer": "ipython3",
   "version": "3.12.10"
  }
 },
 "nbformat": 4,
 "nbformat_minor": 5
}
