{
 "cells": [
  {
   "cell_type": "markdown",
   "id": "3e5745d4",
   "metadata": {},
   "source": [
    "###### Lecture 6c - Set\n",
    "- object for those working with mathemathical sets\n"
   ]
  },
  {
   "cell_type": "markdown",
   "id": "feba9c87",
   "metadata": {},
   "source": [
    "#### create a set\n"
   ]
  },
  {
   "cell_type": "code",
   "execution_count": 3,
   "id": "a12fa622",
   "metadata": {},
   "outputs": [
    {
     "data": {
      "text/plain": [
       "['anna@example.com',\n",
       " 'bobo@example.com',\n",
       " 'bobo@example.com',\n",
       " 'carla@example.com']"
      ]
     },
     "execution_count": 3,
     "metadata": {},
     "output_type": "execute_result"
    }
   ],
   "source": [
    "# create a list of emails with duplicates\n",
    "emails=[\"anna@example.com\",\"bobo@example.com\",\"bobo@example.com\",\"carla@example.com\"]\n",
    "emails"
   ]
  },
  {
   "cell_type": "code",
   "execution_count": 4,
   "id": "fbc3fb67",
   "metadata": {},
   "outputs": [
    {
     "data": {
      "text/plain": [
       "{'anna@example.com', 'bobo@example.com', 'carla@example.com'}"
      ]
     },
     "execution_count": 4,
     "metadata": {},
     "output_type": "execute_result"
    }
   ],
   "source": [
    "# use the items in the list to create a set\n",
    "# a set will keep only unique items\n",
    "emails_set = set(emails)\n",
    "emails_set"
   ]
  },
  {
   "cell_type": "markdown",
   "id": "439fb400",
   "metadata": {},
   "source": [
    "##### Intersection of 2 sets"
   ]
  },
  {
   "cell_type": "code",
   "execution_count": 5,
   "id": "e29ecaae",
   "metadata": {},
   "outputs": [
    {
     "data": {
      "text/plain": [
       "{'carla', 'daniel'}"
      ]
     },
     "execution_count": 5,
     "metadata": {},
     "output_type": "execute_result"
    }
   ],
   "source": [
    "# create two sets\n",
    "\n",
    "first_month_customers = {\"alice\",\"bob\", \"carla\", \"daniel\"}\n",
    "second_month_customers = {\"elena\", \"carla\", \"daniel\"}\n",
    "\n",
    "returning_customers = first_month_customers.intersection(second_month_customers)\n",
    "returning_customers\n",
    "\n"
   ]
  },
  {
   "cell_type": "markdown",
   "id": "bf0275af",
   "metadata": {},
   "source": [
    "##### Union of two sets"
   ]
  },
  {
   "cell_type": "code",
   "execution_count": 6,
   "id": "24f22fe9",
   "metadata": {},
   "outputs": [
    {
     "data": {
      "text/plain": [
       "{'alice', 'bob', 'carla', 'daniel', 'elena'}"
      ]
     },
     "execution_count": 6,
     "metadata": {},
     "output_type": "execute_result"
    }
   ],
   "source": [
    "all_customers =  first_month_customers.union(second_month_customers)\n",
    "all_customers"
   ]
  },
  {
   "cell_type": "markdown",
   "id": "a32c530c",
   "metadata": {},
   "source": [
    "##### Except"
   ]
  },
  {
   "cell_type": "code",
   "execution_count": 7,
   "id": "ad06437b",
   "metadata": {},
   "outputs": [
    {
     "data": {
      "text/plain": [
       "{'alice', 'bob', 'elena'}"
      ]
     },
     "execution_count": 7,
     "metadata": {},
     "output_type": "execute_result"
    }
   ],
   "source": [
    "one_time_customer = all_customers - returning_customers\n",
    "one_time_customer"
   ]
  }
 ],
 "metadata": {
  "kernelspec": {
   "display_name": "Python_Vera_Olander_DE25",
   "language": "python",
   "name": "python3"
  },
  "language_info": {
   "codemirror_mode": {
    "name": "ipython",
    "version": 3
   },
   "file_extension": ".py",
   "mimetype": "text/x-python",
   "name": "python",
   "nbconvert_exporter": "python",
   "pygments_lexer": "ipython3",
   "version": "3.12.10"
  }
 },
 "nbformat": 4,
 "nbformat_minor": 5
}
