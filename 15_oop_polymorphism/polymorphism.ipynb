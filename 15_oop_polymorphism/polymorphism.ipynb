{
 "cells": [
  {
   "cell_type": "markdown",
   "id": "ba200464",
   "metadata": {},
   "source": [
    "# Polymorphism\n",
    "\n",
    "\"many shapes\"\n",
    "\n",
    "- same function name or operator used for different types\n",
    "- e.g.\n",
    "    - \"2\" + \"3\" -> \"23\"\n",
    "    - 2 + 3 -> 5\n",
    "in this example, the plus operator works different for different types, it has been operator overloaded"
   ]
  },
  {
   "cell_type": "code",
   "execution_count": 3,
   "id": "3c205abb",
   "metadata": {},
   "outputs": [
    {
     "data": {
      "text/plain": [
       "'222'"
      ]
     },
     "execution_count": 3,
     "metadata": {},
     "output_type": "execute_result"
    }
   ],
   "source": [
    "\"2\"+\"22\""
   ]
  },
  {
   "cell_type": "code",
   "execution_count": 1,
   "id": "23f20423",
   "metadata": {},
   "outputs": [
    {
     "data": {
      "text/plain": [
       "24"
      ]
     },
     "execution_count": 1,
     "metadata": {},
     "output_type": "execute_result"
    }
   ],
   "source": [
    "2+22\n"
   ]
  },
  {
   "cell_type": "code",
   "execution_count": 2,
   "id": "ca3f6169",
   "metadata": {},
   "outputs": [
    {
     "ename": "TypeError",
     "evalue": "unsupported operand type(s) for +: 'int' and 'str'",
     "output_type": "error",
     "traceback": [
      "\u001b[31m---------------------------------------------------------------------------\u001b[39m",
      "\u001b[31mTypeError\u001b[39m                                 Traceback (most recent call last)",
      "\u001b[36mCell\u001b[39m\u001b[36m \u001b[39m\u001b[32mIn[2]\u001b[39m\u001b[32m, line 1\u001b[39m\n\u001b[32m----> \u001b[39m\u001b[32m1\u001b[39m \u001b[32;43m2\u001b[39;49m\u001b[43m+\u001b[49m\u001b[33;43m\"\u001b[39;49m\u001b[33;43m2\u001b[39;49m\u001b[33;43m\"\u001b[39;49m\n",
      "\u001b[31mTypeError\u001b[39m: unsupported operand type(s) for +: 'int' and 'str'"
     ]
    }
   ],
   "source": [
    "2+\"2\""
   ]
  },
  {
   "cell_type": "code",
   "execution_count": 4,
   "id": "075453e3",
   "metadata": {},
   "outputs": [
    {
     "data": {
      "text/plain": [
       "[2, 2]"
      ]
     },
     "execution_count": 4,
     "metadata": {},
     "output_type": "execute_result"
    }
   ],
   "source": [
    "[2]+[2]"
   ]
  },
  {
   "cell_type": "code",
   "execution_count": 5,
   "id": "b965a585",
   "metadata": {},
   "outputs": [
    {
     "data": {
      "text/plain": [
       "[2, 2]"
      ]
     },
     "execution_count": 5,
     "metadata": {},
     "output_type": "execute_result"
    }
   ],
   "source": [
    "[2]*2"
   ]
  },
  {
   "cell_type": "markdown",
   "id": "de3eaebe",
   "metadata": {},
   "source": [
    "# Polymorphism in class methods"
   ]
  },
  {
   "cell_type": "code",
   "execution_count": 2,
   "id": "952f40fc",
   "metadata": {},
   "outputs": [
    {
     "name": "stdout",
     "output_type": "stream",
     "text": [
      "I am a fish, my name is Fisky\n",
      "fish Fisky says blupp blupp\n",
      "I am a fish, my name is Goldy\n",
      "fish Goldy says blupp blupp\n",
      "I am a fox, my name is Ylvis, no one knows how I sound\n"
     ]
    }
   ],
   "source": [
    "class Fish:\n",
    "    def __init__(self, name):\n",
    "        self.name = name\n",
    "\n",
    "    def __str__(self):\n",
    "        return f\"I am a fish, my name is {self.name}\"\n",
    "\n",
    "    def speak(self):\n",
    "        print(f\"fish {self.name} says blupp blupp\")\n",
    "\n",
    "class Fox:\n",
    "    def __init__(self, name):\n",
    "        self.name = name\n",
    "\n",
    "    def __str__(self):\n",
    "        return f\"I am a fox, my name is {self.name}, no one knows how I sound\"\n",
    "    \n",
    "    def speak(self):\n",
    "        return NotImplemented\n",
    "    \n",
    "\n",
    "animals = [Fish(\"Fisky\"), Fish(\"Goldy\"), Fox(\"Ylvis\")]\n",
    "\n",
    "for animal in animals:\n",
    "    # using same method name, but behaves differently for different types\n",
    "    print(animal) # uses __str__() for both Fish and Fox\n",
    "    animal.speak() # uses speak for both Fish and Fox"
   ]
  },
  {
   "cell_type": "markdown",
   "id": "50d89332",
   "metadata": {},
   "source": [
    "<div style=\"max-width:66ch;\">\n",
    "\n",
    "## Operator overloading\n",
    "Ability to define and use custom behavior of operators for your objects. This is achieved by implementing dunder or special methods that correspond to that operator.\n",
    "\n",
    "it gives additional functionality to an operator\n",
    "e.g. + is overloaded for strings, int, float etc.\n",
    "\n",
    "<table style=\"display:inline-block; text-align:left;\">\n",
    "  <tr style=\"background-color: #174A7E; color: white;\">\n",
    "    <th>Operator</th>\n",
    "    <th>Dunder Method</th>\n",
    "  </tr>\n",
    "  <tr>\n",
    "    <td style=\"text-align: center;\">+</td>\n",
    "    <td style=\"text-align: center;\">__add__(self, other)</td>\n",
    "  </tr>\n",
    "  <tr>\n",
    "    <td style=\"text-align: center;\">-</td>\n",
    "    <td style=\"text-align: center;\">__sub__(self, other)</td>\n",
    "  </tr>\n",
    "  <tr>\n",
    "    <td style=\"text-align: center;\">*</td>\n",
    "    <td style=\"text-align: center;\">__mul__(self, other)</td>\n",
    "  </tr>\n",
    "  <tr>\n",
    "    <td style=\"text-align: center;\">/</td>\n",
    "    <td style=\"text-align: center;\">__div__(self, other)</td>\n",
    "  </tr>\n",
    "  <tr>\n",
    "    <td style=\"text-align: center;\">//</td>\n",
    "    <td style=\"text-align: center;\">__floordiv__(self, other)</td>\n",
    "  </tr>\n",
    "  <tr>\n",
    "    <td style=\"text-align: center;\">%</td>\n",
    "    <td style=\"text-align: center;\">__mod__(self, other)</td>\n",
    "  </tr>\n",
    "  <tr>\n",
    "    <td style=\"text-align: center;\">**</td>\n",
    "    <td style=\"text-align: center;\">__pow__(self, other)</td>\n",
    "  </tr>\n",
    "  <tr>\n",
    "    <td style=\"text-align: center;\"><</td>\n",
    "    <td style=\"text-align: center;\">__lt__(self, other)</td>\n",
    "  </tr>\n",
    "  <tr>\n",
    "    <td style=\"text-align: center;\"><=</td>\n",
    "    <td style=\"text-align: center;\">__le__(self, other)</td>\n",
    "  </tr>\n",
    "  <tr>\n",
    "    <td style=\"text-align: center;\">></td>\n",
    "    <td style=\"text-align: center;\">__gt__(self, other)</td>\n",
    "  </tr>\n",
    "  <tr>\n",
    "    <td style=\"text-align: center;\">>=</td>\n",
    "    <td style=\"text-align: center;\">__ge__(self, other)</td>\n",
    "  </tr>\n",
    "  <tr>\n",
    "    <td style=\"text-align: center;\">==</td>\n",
    "    <td style=\"text-align: center;\">__eq__(self, other)</td>\n",
    "  </tr>\n",
    "</table>\n",
    "\n",
    "</div>\n",
    "\n",
    "Note that there are more operators that can be overloaded than those specified in this list"
   ]
  },
  {
   "cell_type": "markdown",
   "id": "c5ebdc39",
   "metadata": {},
   "source": [
    "### Vector"
   ]
  },
  {
   "cell_type": "code",
   "execution_count": 3,
   "id": "c8c50ac6",
   "metadata": {},
   "outputs": [
    {
     "name": "stdout",
     "output_type": "stream",
     "text": [
      "<class 'tuple'>\n",
      "(1, 2)\n",
      "<class 'tuple'>\n",
      "('1', 2)\n",
      "value must be number not <class 'str'>\n",
      "<class 'tuple'>\n",
      "()\n",
      "Vector can't be empty\n"
     ]
    }
   ],
   "source": [
    "from utils import validate_number\n",
    "\n",
    "class Vector:\n",
    "    \"\"\"A class representing a Euclidean vector\"\"\"\n",
    "    def __init__(self, *numbers):\n",
    "        print(type(numbers))\n",
    "        print(numbers)\n",
    "\n",
    "        for number in numbers:\n",
    "            validate_number(number)\n",
    "\n",
    "        if len(numbers) <= 0:\n",
    "            raise ValueError(\"Vector can't be empty\")\n",
    "\n",
    "        self._numbers = numbers\n",
    "    \n",
    "    @property\n",
    "    def numbers(self):\n",
    "        return self._numbers\n",
    "\n",
    "\n",
    "v1 = Vector(1,2)\n",
    "\n",
    "try:\n",
    "    v2 = Vector(\"1\",2)\n",
    "except TypeError as err:\n",
    "    print(err)\n",
    "\n",
    "try:\n",
    "    v2 = Vector()\n",
    "except ValueError as err:\n",
    "    print(err)"
   ]
  },
  {
   "cell_type": "code",
   "execution_count": 4,
   "id": "2731b379",
   "metadata": {},
   "outputs": [
    {
     "name": "stdout",
     "output_type": "stream",
     "text": [
      "len(v3) = 2\n",
      "len(v4) = 6\n",
      "v3 = Vector(1, 1)\n",
      "v5 = Vector(2, -1)\n",
      "v5+v3 = Vector(3, 0)\n",
      "v3+v5 = Vector(3, 0)\n",
      "v3-v5 = Vector(-1, 2)\n",
      "v4[-1] = 6\n",
      "v4[2:] = (41, 5, 2, 6)\n",
      "v3 * 5 = Vector(5, 5)\n"
     ]
    },
    {
     "data": {
      "text/plain": [
       "Vector(5, 5)"
      ]
     },
     "execution_count": 4,
     "metadata": {},
     "output_type": "execute_result"
    }
   ],
   "source": [
    "from numbers import Number\n",
    "\n",
    "\n",
    "class Vector:\n",
    "    \"\"\"A class representing a Euclidean vector\"\"\"\n",
    "\n",
    "    def __init__(self, *numbers):\n",
    "\n",
    "        # validation\n",
    "        for number in numbers:\n",
    "            validate_number(number)\n",
    "\n",
    "        if len(numbers) <= 0:\n",
    "            raise ValueError(\"Vector can't be empty\")\n",
    "\n",
    "        self._numbers = numbers\n",
    "\n",
    "    # read-only\n",
    "    @property\n",
    "    def numbers(self) -> tuple:\n",
    "        return self._numbers\n",
    "\n",
    "    def __repr__(self):\n",
    "        return f\"Vector{self.numbers}\"\n",
    "\n",
    "    # operator overloading -> makes it possible to use len() function on Vector\n",
    "    def __len__(self) -> int:\n",
    "        # this len works on a tuple\n",
    "        return len(self.numbers)\n",
    "\n",
    "    # operator overloads plus operator\n",
    "    def __add__(self, other: Vector) -> Vector:\n",
    "        # validation code - stop addition of different vector dimensions\n",
    "\n",
    "        # elementwise addition between 2 tuples\n",
    "        numbers = (a + b for a, b in zip(self.numbers, other.numbers))\n",
    "        return Vector(*numbers)\n",
    "\n",
    "    def __sub__(self, other: Vector) -> Vector:\n",
    "        # validation code - stop addition of different vector dimensions\n",
    "\n",
    "        # elementwise subtraction between 2 tuples\n",
    "        numbers = (a - b for a, b in zip(self.numbers, other.numbers))\n",
    "        return Vector(*numbers)\n",
    "\n",
    "    def __getitem__(self, item: int) -> Number:\n",
    "        return self.numbers[item]\n",
    "\n",
    "    def __mul__(self, number: Number) -> Vector:\n",
    "        numbers = (number * a for a in self.numbers)\n",
    "        return Vector(*numbers)\n",
    "\n",
    "    # to make multiplication commutative i.e. a*v1 = v1*a\n",
    "    def __rmul__(self, number: Number) -> Vector:\n",
    "        return self * number\n",
    "\n",
    "\n",
    "v3 = Vector(1, 1)\n",
    "v4 = Vector(1, 2, 41, 5, 2, 6)\n",
    "v5 = Vector(2, -1)\n",
    "\n",
    "print(f\"{len(v3) = }\")\n",
    "print(f\"{len(v4) = }\")\n",
    "print(f\"{v3 = }\")\n",
    "print(f\"{v5 = }\")\n",
    "print(f\"{v5+v3 = }\")\n",
    "print(f\"{v3+v5 = }\")\n",
    "print(f\"{v3-v5 = }\")\n",
    "print(f\"{v4[-1] = }\")\n",
    "print(f\"{v4[2:] = }\")\n",
    "print(f\"{v3 * 5 = }\")\n",
    "\n",
    "5 * v3"
   ]
  },
  {
   "cell_type": "code",
   "execution_count": 13,
   "id": "bb614bae",
   "metadata": {},
   "outputs": [
    {
     "data": {
      "text/plain": [
       "(2, 6)"
      ]
     },
     "execution_count": 13,
     "metadata": {},
     "output_type": "execute_result"
    }
   ],
   "source": [
    "len(v3), len(v4)"
   ]
  },
  {
   "cell_type": "code",
   "execution_count": 2,
   "id": "ead22491",
   "metadata": {},
   "outputs": [
    {
     "name": "stdout",
     "output_type": "stream",
     "text": [
      "1 -1\n",
      "2 -2\n",
      "3 -3\n"
     ]
    }
   ],
   "source": [
    "for a, b in zip((1,2,3),(-1,-2,-3)):\n",
    "    print(a,b)"
   ]
  },
  {
   "cell_type": "code",
   "execution_count": 1,
   "id": "4d07ce23",
   "metadata": {},
   "outputs": [
    {
     "data": {
      "text/plain": [
       "3"
      ]
     },
     "execution_count": 1,
     "metadata": {},
     "output_type": "execute_result"
    }
   ],
   "source": [
    "l1 = [1,2,3]\n",
    "l1[-1]"
   ]
  }
 ],
 "metadata": {
  "kernelspec": {
   "display_name": "Python 3",
   "language": "python",
   "name": "python3"
  },
  "language_info": {
   "codemirror_mode": {
    "name": "ipython",
    "version": 3
   },
   "file_extension": ".py",
   "mimetype": "text/x-python",
   "name": "python",
   "nbconvert_exporter": "python",
   "pygments_lexer": "ipython3",
   "version": "3.12.10"
  }
 },
 "nbformat": 4,
 "nbformat_minor": 5
}
