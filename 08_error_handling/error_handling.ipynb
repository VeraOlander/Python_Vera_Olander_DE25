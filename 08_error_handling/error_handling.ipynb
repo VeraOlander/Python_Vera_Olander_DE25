{
 "cells": [
  {
   "cell_type": "markdown",
   "id": "fb9f77ec",
   "metadata": {},
   "source": [
    "##### Error handling\n",
    "- add error handling for blocks of codes that can encounter errors\n",
    "- because we do not want to crash the program\n",
    "- make use of `try except` block"
   ]
  },
  {
   "cell_type": "code",
   "execution_count": 2,
   "id": "cd92dc88",
   "metadata": {},
   "outputs": [
    {
     "ename": "NameError",
     "evalue": "name 'x' is not defined",
     "output_type": "error",
     "traceback": [
      "\u001b[31m---------------------------------------------------------------------------\u001b[39m",
      "\u001b[31mNameError\u001b[39m                                 Traceback (most recent call last)",
      "\u001b[36mCell\u001b[39m\u001b[36m \u001b[39m\u001b[32mIn[2]\u001b[39m\u001b[32m, line 2\u001b[39m\n\u001b[32m      1\u001b[39m \u001b[38;5;66;03m# w/o error handling the code below will crash\u001b[39;00m\n\u001b[32m----> \u001b[39m\u001b[32m2\u001b[39m \u001b[38;5;28mprint\u001b[39m(\u001b[43mx\u001b[49m)\n",
      "\u001b[31mNameError\u001b[39m: name 'x' is not defined"
     ]
    }
   ],
   "source": [
    "# w/o error handling the code below will crash\n",
    "print(x)\n"
   ]
  },
  {
   "cell_type": "code",
   "execution_count": 3,
   "id": "3c162f63",
   "metadata": {},
   "outputs": [
    {
     "name": "stdout",
     "output_type": "stream",
     "text": [
      "there is an error in the try block\n"
     ]
    }
   ],
   "source": [
    "# add try except to the code above\n",
    "try:\n",
    "    # under the try block, put the potentially problematic block of code\n",
    "    print(x)\n",
    "except:\n",
    "    #when the try block encounter errors, run the except block instead of crushing\n",
    "    print(\"there is an error in the try block\")"
   ]
  },
  {
   "cell_type": "code",
   "execution_count": 4,
   "id": "bef8f534",
   "metadata": {},
   "outputs": [
    {
     "name": "stdout",
     "output_type": "stream",
     "text": [
      "variable x is not defined yet\n"
     ]
    }
   ],
   "source": [
    "# make use of multiple except blocks\n",
    "try:\n",
    "    print(x)\n",
    "except NameError:\n",
    "    print(\"variable x is not defined yet\")\n",
    "    \n",
    "except:\n",
    "    print(\"some other error happened\")"
   ]
  },
  {
   "cell_type": "code",
   "execution_count": 6,
   "id": "50816b1e",
   "metadata": {},
   "outputs": [
    {
     "ename": "ZeroDivisionError",
     "evalue": "division by zero",
     "output_type": "error",
     "traceback": [
      "\u001b[31m---------------------------------------------------------------------------\u001b[39m",
      "\u001b[31mZeroDivisionError\u001b[39m                         Traceback (most recent call last)",
      "\u001b[36mCell\u001b[39m\u001b[36m \u001b[39m\u001b[32mIn[6]\u001b[39m\u001b[32m, line 2\u001b[39m\n\u001b[32m      1\u001b[39m \u001b[38;5;66;03m# an example that is not NameError\u001b[39;00m\n\u001b[32m----> \u001b[39m\u001b[32m2\u001b[39m \u001b[38;5;28mprint\u001b[39m(\u001b[32;43m8\u001b[39;49m\u001b[43m/\u001b[49m\u001b[32;43m0\u001b[39;49m)\n",
      "\u001b[31mZeroDivisionError\u001b[39m: division by zero"
     ]
    }
   ],
   "source": [
    "# an example that is not NameError\n",
    "print(8/0)"
   ]
  },
  {
   "cell_type": "code",
   "execution_count": 7,
   "id": "cce44bd5",
   "metadata": {},
   "outputs": [
    {
     "name": "stdout",
     "output_type": "stream",
     "text": [
      "There is an error that is not NameError\n"
     ]
    }
   ],
   "source": [
    "try:\n",
    "    print(8/0)\n",
    "except NameError:\n",
    "    print(\"There is a NameError\")\n",
    "except:\n",
    "    print(\"There is an error that is not NameError\")"
   ]
  },
  {
   "cell_type": "code",
   "execution_count": 8,
   "id": "4ab7bd15",
   "metadata": {},
   "outputs": [
    {
     "name": "stdout",
     "output_type": "stream",
     "text": [
      "name 'x' is not defined\n"
     ]
    }
   ],
   "source": [
    "# make use of error message\n",
    "try:\n",
    "    print(x)\n",
    "except NameError as err:\n",
    "    print(err)\n",
    "\n",
    "except:\n",
    "    print(\"Something else\")    "
   ]
  }
 ],
 "metadata": {
  "kernelspec": {
   "display_name": "Python 3",
   "language": "python",
   "name": "python3"
  },
  "language_info": {
   "codemirror_mode": {
    "name": "ipython",
    "version": 3
   },
   "file_extension": ".py",
   "mimetype": "text/x-python",
   "name": "python",
   "nbconvert_exporter": "python",
   "pygments_lexer": "ipython3",
   "version": "3.12.10"
  }
 },
 "nbformat": 4,
 "nbformat_minor": 5
}
