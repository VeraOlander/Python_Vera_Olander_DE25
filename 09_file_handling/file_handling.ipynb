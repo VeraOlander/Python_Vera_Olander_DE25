{
 "cells": [
  {
   "cell_type": "markdown",
   "id": "cf9050a8",
   "metadata": {},
   "source": [
    "##### Lecture 9 - file handling\n",
    "- reading text files (.txt)\n",
    "- we need to\n",
    "    - read the file\n",
    "    - clean contents\n",
    "    - write the cleaned contents to a new text file\n",
    "- we focus on text/string contents"
   ]
  },
  {
   "cell_type": "markdown",
   "id": "45158b54",
   "metadata": {},
   "source": [
    "## Read the file\n"
   ]
  },
  {
   "cell_type": "markdown",
   "id": "2d9f85f4",
   "metadata": {},
   "source": [
    "##### Open the file directly"
   ]
  },
  {
   "cell_type": "code",
   "execution_count": null,
   "id": "bca5e729",
   "metadata": {},
   "outputs": [
    {
     "name": "stdout",
     "output_type": "stream",
     "text": [
      "<_io.TextIOWrapper name='test.txt' mode='r' encoding='cp1252'>\n",
      "bjkm,.m,.<\n",
      "cghvbnmnmjhn\n",
      "\n"
     ]
    }
   ],
   "source": [
    "# open the file\n",
    "# the first argument is a path\n",
    "# the second argument  is the mode of opening (r = read-only)\n",
    "file = open(\"test.txt\", \"r\") \n",
    "print(file)\n",
    "\n",
    "#save the contents of the file in a variable\n",
    "text = file.read()\n",
    "print(text)\n",
    "\n",
    "#close the file\n",
    "file.close()"
   ]
  },
  {
   "cell_type": "markdown",
   "id": "f50e2112",
   "metadata": {},
   "source": [
    "##### Open the file with with statement"
   ]
  },
  {
   "cell_type": "code",
   "execution_count": 6,
   "id": "d1672e19",
   "metadata": {},
   "outputs": [
    {
     "name": "stdout",
     "output_type": "stream",
     "text": [
      "bjkm,.m,.<\n",
      "cghvbnmnmjhn\n",
      "\n"
     ]
    }
   ],
   "source": [
    "with open(\"test.txt\", \"r\") as f:\n",
    "    text = f.read()\n",
    "    # with statement will close the file automatically\n",
    "\n",
    "print(text)"
   ]
  },
  {
   "cell_type": "markdown",
   "id": "5c33be29",
   "metadata": {},
   "source": [
    "## Clean the quotes file"
   ]
  },
  {
   "cell_type": "code",
   "execution_count": null,
   "id": "33f78499",
   "metadata": {},
   "outputs": [],
   "source": [
    "# we will use regular expression package to clean string content\n",
    "import re"
   ]
  },
  {
   "cell_type": "code",
   "execution_count": null,
   "id": "466a868c",
   "metadata": {},
   "outputs": [],
   "source": [
    "# create an empty list for saving quotes\n",
    "quotes=[]\n",
    "\n",
    "# initiate a quote number\n",
    "i = 1"
   ]
  },
  {
   "cell_type": "code",
   "execution_count": null,
   "id": "2c3e0609",
   "metadata": {},
   "outputs": [
    {
     "name": "stdout",
     "output_type": "stream",
     "text": [
      "<_io.TextIOWrapper name='quotes.txt' mode='r' encoding='cp1252'>\n",
      "  If     we     knew what it was      we were doing, it would not be called research,          would it?     - Albert Einstein\n",
      "\n",
      "Time is a drug. Too       much of it kills you.  -  Terry Pratchett\n",
      "\n",
      "\n",
      " An expert is a person who       has made all the mistakes that           can be made in a          very narrow field - Niels Bohr\n",
      "\n",
      "   Everything must be made as simple as possible. But not simpler. - Albert Einstein     \n",
      "\n",
      "\n",
      "  Nothing in life                is to be feared, it is only to be understood. Now is the time to understand more, so that we may fear less. - Marie  Curie  \n",
      "\n",
      "If I have seen further     it is by standing on the shoulders of Giants. - Isaac Newton\n"
     ]
    }
   ],
   "source": [
    "# open the file \n",
    "# comparing the use of absolute and relative paths\n",
    "\n",
    "#print out all the content at once\n",
    "raw_file_path=\"quotes.txt\"\n",
    "\n",
    "with open(\"quotes.txt\", \"r\") as f_read:\n",
    "    quotes=f_read.read()\n",
    "\n",
    "print(f_read) #what you can see from opening the file - just ifo about the fila\n",
    "print(quotes) # what you can see from applying the read() method to the file"
   ]
  },
  {
   "cell_type": "code",
   "execution_count": 14,
   "id": "fd1fd86c",
   "metadata": {},
   "outputs": [
    {
     "name": "stdout",
     "output_type": "stream",
     "text": [
      "If we knew what it was we were doing, it would not be called research, would it? - Albert Einstein\n",
      "\n",
      "Time is a drug. Too much of it kills you. - Terry Pratchett\n",
      "\n",
      "\n",
      "An expert is a person who has made all the mistakes that can be made in a very narrow field - Niels Bohr\n",
      "\n",
      "Everything must be made as simple as possible. But not simpler. - Albert Einstein\n",
      "\n",
      "\n",
      "Nothing in life is to be feared, it is only to be understood. Now is the time to understand more, so that we may fear less. - Marie Curie\n",
      "\n",
      "If I have seen further it is by standing on the shoulders of Giants. - Isaac Newton\n"
     ]
    }
   ],
   "source": [
    "# loop through lines in the file content\n",
    "\n",
    "with open(raw_file_path, \"r\") as f_read:\n",
    "    for quote in f_read:\n",
    "        # data cleaning\n",
    "        quote = quote.strip(\" \\n\") # replace the quote with a modified quote \n",
    "        quote = re.sub(\" +\",\" \" , quote) # replace multiple spaces with one space\n",
    "        # print each line\n",
    "        print(quote)"
   ]
  },
  {
   "cell_type": "code",
   "execution_count": 17,
   "id": "2068710e",
   "metadata": {},
   "outputs": [
    {
     "name": "stdout",
     "output_type": "stream",
     "text": [
      "If we knew what it was we were doing, it would not be called research, would it? - Albert Einstein\n",
      "\n",
      "Time is a drug. Too much of it kills you. - Terry Pratchett\n",
      "\n",
      "\n",
      "An expert is a person who has made all the mistakes that can be made in a very narrow field - Niels Bohr\n",
      "\n",
      "Everything must be made as simple as possible. But not simpler. - Albert Einstein\n",
      "\n",
      "\n",
      "Nothing in life is to be feared, it is only to be understood. Now is the time to understand more, so that we may fear less. - Marie Curie\n",
      "\n",
      "If I have seen further it is by standing on the shoulders of Giants. - Isaac Newton\n"
     ]
    }
   ],
   "source": [
    "clean_quotes = []\n",
    "i=1\n",
    "\n",
    "with open(raw_file_path, \"r\") as f_read, open(\"quotes_cleaned.txt\",\"w\") as f_write:\n",
    "    for quote in f_read:\n",
    "        # data cleaning\n",
    "        quote = quote.strip(\" \\n\") # replace the quote with a modified quote \n",
    "        quote = re.sub(\" +\",\" \" , quote) # replace multiple spaces with one space\n",
    "        # print each line\n",
    "        print(quote)\n",
    "\n",
    "        if quote!=\"\":\n",
    "            f_write.write(f\"{i}. {quote}\\n\")\n",
    "            i+=1"
   ]
  }
 ],
 "metadata": {
  "kernelspec": {
   "display_name": "Python 3",
   "language": "python",
   "name": "python3"
  },
  "language_info": {
   "codemirror_mode": {
    "name": "ipython",
    "version": 3
   },
   "file_extension": ".py",
   "mimetype": "text/x-python",
   "name": "python",
   "nbconvert_exporter": "python",
   "pygments_lexer": "ipython3",
   "version": "3.12.10"
  }
 },
 "nbformat": 4,
 "nbformat_minor": 5
}
