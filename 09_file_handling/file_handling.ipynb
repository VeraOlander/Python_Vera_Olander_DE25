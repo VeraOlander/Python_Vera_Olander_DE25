{
 "cells": [
  {
   "cell_type": "markdown",
   "id": "cf9050a8",
   "metadata": {},
   "source": [
    "##### Lecture 9 - file handling\n",
    "- reading text files (.txt)\n",
    "- we need to\n",
    "    - read the file\n",
    "    - clean contents\n",
    "    - write the cleaned contents to a new text file\n",
    "- we focus on text/string contents"
   ]
  },
  {
   "cell_type": "markdown",
   "id": "45158b54",
   "metadata": {},
   "source": [
    "## Read the file\n"
   ]
  },
  {
   "cell_type": "markdown",
   "id": "2d9f85f4",
   "metadata": {},
   "source": [
    "##### Open the file directly"
   ]
  },
  {
   "cell_type": "code",
   "execution_count": null,
   "id": "bca5e729",
   "metadata": {},
   "outputs": [
    {
     "name": "stdout",
     "output_type": "stream",
     "text": [
      "<_io.TextIOWrapper name='test.txt' mode='r' encoding='cp1252'>\n",
      "bjkm,.m,.<\n",
      "cghvbnmnmjhn\n",
      "\n"
     ]
    }
   ],
   "source": [
    "# open the file\n",
    "# the first argument is a path\n",
    "# the second argument  is the mode of opening (r = read-only)\n",
    "file = open(\"test.txt\", \"r\") \n",
    "print(file)\n",
    "\n",
    "#save the contents of the file in a variable\n",
    "text = file.read()\n",
    "print(text)\n",
    "\n",
    "#close the file\n",
    "file.close()"
   ]
  },
  {
   "cell_type": "markdown",
   "id": "f50e2112",
   "metadata": {},
   "source": [
    "##### Open the file with with statement"
   ]
  },
  {
   "cell_type": "code",
   "execution_count": 6,
   "id": "d1672e19",
   "metadata": {},
   "outputs": [
    {
     "name": "stdout",
     "output_type": "stream",
     "text": [
      "bjkm,.m,.<\n",
      "cghvbnmnmjhn\n",
      "\n"
     ]
    }
   ],
   "source": [
    "with open(\"test.txt\", \"r\") as f:\n",
    "    text = f.read()\n",
    "    # with statement will close the file automatically\n",
    "\n",
    "print(text)"
   ]
  }
 ],
 "metadata": {
  "kernelspec": {
   "display_name": "Python 3",
   "language": "python",
   "name": "python3"
  },
  "language_info": {
   "codemirror_mode": {
    "name": "ipython",
    "version": 3
   },
   "file_extension": ".py",
   "mimetype": "text/x-python",
   "name": "python",
   "nbconvert_exporter": "python",
   "pygments_lexer": "ipython3",
   "version": "3.12.10"
  }
 },
 "nbformat": 4,
 "nbformat_minor": 5
}
