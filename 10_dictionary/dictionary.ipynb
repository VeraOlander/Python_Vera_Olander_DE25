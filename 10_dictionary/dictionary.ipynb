{
 "cells": [
  {
   "cell_type": "markdown",
   "id": "ddd52afa",
   "metadata": {},
   "source": [
    "### Dictionary\n",
    "- also a collection data type\n",
    "- the data is stored in key- value pairs"
   ]
  },
  {
   "cell_type": "markdown",
   "id": "f5e0bfa6",
   "metadata": {},
   "source": [
    "#### Create a dictionary with dict()"
   ]
  },
  {
   "cell_type": "code",
   "execution_count": 1,
   "id": "7d3a13d6",
   "metadata": {},
   "outputs": [],
   "source": [
    "# instantiate a dictionary object called person\n",
    "person = dict(\n",
    "    name=\"Kokchun\",\n",
    "    age=34.9,\n",
    "    work=\"teacher\"\n",
    ")"
   ]
  },
  {
   "cell_type": "code",
   "execution_count": 4,
   "id": "4a10343b",
   "metadata": {},
   "outputs": [
    {
     "name": "stdout",
     "output_type": "stream",
     "text": [
      "Kokchun\n",
      "teacher\n"
     ]
    }
   ],
   "source": [
    "# retrieve data from this dictionary \n",
    "# make use of the key for each value\n",
    "\n",
    "print(person[\"name\"]) # compare to indexing in a list like list_a[0]\n",
    "print(person[\"work\"])"
   ]
  },
  {
   "cell_type": "markdown",
   "id": "db218ba0",
   "metadata": {},
   "source": [
    "##### Create a dictionary with {}"
   ]
  },
  {
   "cell_type": "code",
   "execution_count": 11,
   "id": "dc3e2459",
   "metadata": {},
   "outputs": [],
   "source": [
    "person = {\n",
    "        \"name\":\"Kokchun\",\n",
    "        \"age\": 34.9,\n",
    "        \"work\":\"teacher\",\n",
    "        \"interest\":[\"math\", \"python\",\"yoga\"],# the value in one key-value pair can be another collection data type\n",
    "        \"address\": {\"country\": \"Sweden\", \"city\": \"Stockholm\"}\n",
    "        }\n"
   ]
  },
  {
   "cell_type": "code",
   "execution_count": 8,
   "id": "d5aea39f",
   "metadata": {},
   "outputs": [
    {
     "name": "stdout",
     "output_type": "stream",
     "text": [
      "Kokchun\n",
      "teacher\n"
     ]
    }
   ],
   "source": [
    "print(person[\"name\"])\n",
    "print(person[\"work\"])"
   ]
  },
  {
   "cell_type": "code",
   "execution_count": 13,
   "id": "505b0f30",
   "metadata": {},
   "outputs": [
    {
     "name": "stdout",
     "output_type": "stream",
     "text": [
      "math\n",
      "Sweden\n"
     ]
    }
   ],
   "source": [
    "# only print one interest\n",
    "print(person[\"interest\"][0])\n",
    "\n",
    "# only print one info from the address\n",
    "print(person[\"address\"][\"country\"])"
   ]
  },
  {
   "cell_type": "markdown",
   "id": "65333680",
   "metadata": {},
   "source": [
    "#### Iterate over a dictionary "
   ]
  },
  {
   "cell_type": "code",
   "execution_count": 1,
   "id": "982fe985",
   "metadata": {},
   "outputs": [],
   "source": [
    "words = {\n",
    "        \"data structure\": \"means of storing data\",\n",
    "        \"regression\": \"a function to best fit the data\",\n",
    "        \"method\": \"a function bound to an object\"\n",
    "}"
   ]
  },
  {
   "cell_type": "code",
   "execution_count": 6,
   "id": "361a041a",
   "metadata": {},
   "outputs": [
    {
     "name": "stdout",
     "output_type": "stream",
     "text": [
      "Key: data structure\n",
      "Value: means of storing data\n",
      "---------------\n",
      "Key: regression\n",
      "Value: a function to best fit the data\n",
      "---------------\n",
      "Key: method\n",
      "Value: a function bound to an object\n",
      "---------------\n"
     ]
    }
   ],
   "source": [
    "# iterate over both keys and values\n",
    "for key, value in words.items():\n",
    "    print(f\"Key: {key}\")\n",
    "    print(f\"Value: {value}\")\n",
    "    print(\"---------------\")"
   ]
  },
  {
   "cell_type": "code",
   "execution_count": 10,
   "id": "e432ac78",
   "metadata": {},
   "outputs": [
    {
     "name": "stdout",
     "output_type": "stream",
     "text": [
      "Key: data structure\n",
      "---------------\n",
      "Key: regression\n",
      "---------------\n",
      "Key: method\n",
      "---------------\n"
     ]
    }
   ],
   "source": [
    "# iterate over keys\n",
    "for key in words.keys():\n",
    "    print(f\"Key: {key}\")\n",
    "    print(\"---------------\")"
   ]
  },
  {
   "cell_type": "code",
   "execution_count": 11,
   "id": "7060e567",
   "metadata": {},
   "outputs": [
    {
     "name": "stdout",
     "output_type": "stream",
     "text": [
      "Value: means of storing data\n",
      "---------------\n",
      "Value: a function to best fit the data\n",
      "---------------\n",
      "Value: a function bound to an object\n",
      "---------------\n"
     ]
    }
   ],
   "source": [
    "# iterate over values \n",
    "for value in words.values():\n",
    "    print(f\"Value: {value}\")\n",
    "    print(\"---------------\")"
   ]
  },
  {
   "cell_type": "markdown",
   "id": "29bd7ba3",
   "metadata": {},
   "source": [
    "#### Dictionary comprehension"
   ]
  },
  {
   "cell_type": "code",
   "execution_count": 13,
   "id": "4d483a90",
   "metadata": {},
   "outputs": [
    {
     "data": {
      "text/plain": [
       "{'F': 0, 'E': 10, 'D': 20, 'C': 30, 'B': 40, 'A': 50}"
      ]
     },
     "execution_count": 13,
     "metadata": {},
     "output_type": "execute_result"
    }
   ],
   "source": [
    "# we want to produce a dictionary called grade_limit\n",
    "# create this dictionary from scratch\n",
    "\n",
    "grade_limit = {\n",
    "            \"F\":0,\n",
    "            \"E\":10,\n",
    "            \"D\":20,\n",
    "            \"C\":30,\n",
    "            \"B\":40,\n",
    "            \"A\":50\n",
    "            }\n",
    "\n",
    "grade_limit"
   ]
  },
  {
   "cell_type": "code",
   "execution_count": 14,
   "id": "bfcd848f",
   "metadata": {},
   "outputs": [
    {
     "name": "stdout",
     "output_type": "stream",
     "text": [
      "0\n",
      "F\n",
      "1\n",
      "E\n",
      "2\n",
      "D\n",
      "3\n",
      "C\n",
      "4\n",
      "B\n",
      "5\n",
      "A\n"
     ]
    }
   ],
   "source": [
    "for i, grade in enumerate(\"FEDCBA\"):\n",
    "    print(i)\n",
    "    print(grade)"
   ]
  },
  {
   "cell_type": "code",
   "execution_count": null,
   "id": "f1d80081",
   "metadata": {},
   "outputs": [
    {
     "data": {
      "text/plain": [
       "{'F': 0, 'E': 10, 'D': 20, 'C': 30, 'B': 40, 'A': 50}"
      ]
     },
     "execution_count": 17,
     "metadata": {},
     "output_type": "execute_result"
    }
   ],
   "source": [
    "# create the same dictionary but with dictionary comprehension\n",
    "# check out the loop that will be used inside dictionary comprehension\n",
    "\n",
    "grade_list = {grade: i*10 for i, grade in enumerate(\"FEDCBA\")}\n",
    "grade_list"
   ]
  }
 ],
 "metadata": {
  "kernelspec": {
   "display_name": "Python 3",
   "language": "python",
   "name": "python3"
  },
  "language_info": {
   "codemirror_mode": {
    "name": "ipython",
    "version": 3
   },
   "file_extension": ".py",
   "mimetype": "text/x-python",
   "name": "python",
   "nbconvert_exporter": "python",
   "pygments_lexer": "ipython3",
   "version": "3.12.10"
  }
 },
 "nbformat": 4,
 "nbformat_minor": 5
}
