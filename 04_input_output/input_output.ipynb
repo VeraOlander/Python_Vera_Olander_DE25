{
 "cells": [
  {
   "cell_type": "code",
   "execution_count": null,
   "id": "323aefc9",
   "metadata": {},
   "outputs": [
    {
     "name": "stdout",
     "output_type": "stream",
     "text": [
      "My name is Vera Olander, I am 99 years old\n"
     ]
    }
   ],
   "source": [
    "firstname = \"Veras\"\n",
    "lastname =\"Olander\"\n",
    "age=\"99\"\n",
    "print(f\"My name is {firstname} {lastname}, I am {age} years old\")\n"
   ]
  }
 ],
 "metadata": {
  "kernelspec": {
   "display_name": "Python_Vera_Olander_DE25",
   "language": "python",
   "name": "python3"
  },
  "language_info": {
   "codemirror_mode": {
    "name": "ipython",
    "version": 3
   },
   "file_extension": ".py",
   "mimetype": "text/x-python",
   "name": "python",
   "nbconvert_exporter": "python",
   "pygments_lexer": "ipython3",
   "version": "3.12.10"
  }
 },
 "nbformat": 4,
 "nbformat_minor": 5
}
