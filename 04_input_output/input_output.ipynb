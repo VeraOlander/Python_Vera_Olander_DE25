{
 "cells": [
  {
   "cell_type": "code",
   "execution_count": 5,
   "id": "323aefc9",
   "metadata": {},
   "outputs": [
    {
     "name": "stdout",
     "output_type": "stream",
     "text": [
      "My name is Vera Olander, I am 99 years old\n"
     ]
    }
   ],
   "source": [
    "firstname = \"Vera\"\n",
    "lastname =\"Olander\"\n",
    "age=\"99\"\n",
    "print(f\"My name is {firstname} {lastname}, I am {age} years old\")\n"
   ]
  },
  {
   "cell_type": "code",
   "execution_count": 1,
   "id": "bbc92e44",
   "metadata": {},
   "outputs": [
    {
     "name": "stdout",
     "output_type": "stream",
     "text": [
      "Hello,  vera\n"
     ]
    }
   ],
   "source": [
    "name=\"vera\"\n",
    "print (\"Hello, \", name)"
   ]
  },
  {
   "cell_type": "code",
   "execution_count": 3,
   "id": "fa50de7a",
   "metadata": {},
   "outputs": [
    {
     "name": "stdout",
     "output_type": "stream",
     "text": [
      "I am a woman\n"
     ]
    }
   ],
   "source": [
    "gender=input()\n",
    "print(f\"I am a {gender}\")"
   ]
  },
  {
   "cell_type": "code",
   "execution_count": 4,
   "id": "21e86fdb",
   "metadata": {},
   "outputs": [
    {
     "data": {
      "text/plain": [
       "str"
      ]
     },
     "execution_count": 4,
     "metadata": {},
     "output_type": "execute_result"
    }
   ],
   "source": [
    "type(gender)"
   ]
  }
 ],
 "metadata": {
  "kernelspec": {
   "display_name": "Python_Vera_Olander_DE25",
   "language": "python",
   "name": "python3"
  },
  "language_info": {
   "codemirror_mode": {
    "name": "ipython",
    "version": 3
   },
   "file_extension": ".py",
   "mimetype": "text/x-python",
   "name": "python",
   "nbconvert_exporter": "python",
   "pygments_lexer": "ipython3",
   "version": "3.12.10"
  }
 },
 "nbformat": 4,
 "nbformat_minor": 5
}
