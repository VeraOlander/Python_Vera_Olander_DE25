{
 "cells": [
  {
   "cell_type": "code",
   "execution_count": 26,
   "id": "efd4eec3",
   "metadata": {},
   "outputs": [
    {
     "data": {
      "text/plain": [
       "(Vector(2.0, 5.0), Vector(-1.0, 1.0))"
      ]
     },
     "execution_count": 26,
     "metadata": {},
     "output_type": "execute_result"
    }
   ],
   "source": [
    "from vector import Vector\n",
    "# vector with coordinates 2 an 5\n",
    "v1=Vector(2,5)\n",
    "v1\n",
    "v2=Vector(-1,1)\n",
    "v2\n",
    "v1, v2"
   ]
  },
  {
   "cell_type": "markdown",
   "id": "9fd3761e",
   "metadata": {},
   "source": [
    "### a few tests that we expect will work"
   ]
  },
  {
   "cell_type": "code",
   "execution_count": 27,
   "id": "ccdb8e5a",
   "metadata": {},
   "outputs": [
    {
     "name": "stdout",
     "output_type": "stream",
     "text": [
      "len(v1) = 2\n",
      "v1.numbers = (2.0, 5.0)\n",
      "v1 + v2 = Vector(1.0, 6.0)\n"
     ]
    }
   ],
   "source": [
    "print(f\"{len(v1) = }\")\n",
    "print(f\"{v1.numbers = }\")\n",
    "print(f\"{v1 + v2 = }\")"
   ]
  },
  {
   "cell_type": "markdown",
   "id": "d67017f5",
   "metadata": {},
   "source": [
    "### testing correct errors\n",
    "\n"
   ]
  },
  {
   "cell_type": "code",
   "execution_count": 28,
   "id": "64e19182",
   "metadata": {},
   "outputs": [
    {
     "name": "stdout",
     "output_type": "stream",
     "text": [
      "1 is not valid number in a vector\n"
     ]
    }
   ],
   "source": [
    "try:\n",
    "     Vector(\"1\",1)\n",
    "except TypeError as err:\n",
    "     print(err)"
   ]
  },
  {
   "cell_type": "code",
   "execution_count": 23,
   "id": "75ed5d2c",
   "metadata": {},
   "outputs": [
    {
     "name": "stdout",
     "output_type": "stream",
     "text": [
      "Both must be Vector and have the same length\n"
     ]
    }
   ],
   "source": [
    "v1 = Vector(1,2)\n",
    "v2 = Vector(1,2,3)\n",
    "\n",
    "try:\n",
    "    v1 + v2\n",
    "except TypeError as err:\n",
    "    print(err)"
   ]
  },
  {
   "cell_type": "markdown",
   "id": "65900442",
   "metadata": {},
   "source": [
    "#### assert will be used in automatical testing"
   ]
  },
  {
   "cell_type": "code",
   "execution_count": 24,
   "id": "a72794ad",
   "metadata": {},
   "outputs": [],
   "source": [
    "x = 5 \n",
    "\n",
    "assert x == 5"
   ]
  },
  {
   "cell_type": "code",
   "execution_count": 25,
   "id": "0d328808",
   "metadata": {},
   "outputs": [
    {
     "ename": "SyntaxError",
     "evalue": "invalid syntax (3399119065.py, line 1)",
     "output_type": "error",
     "traceback": [
      "  \u001b[36mCell\u001b[39m\u001b[36m \u001b[39m\u001b[32mIn[25]\u001b[39m\u001b[32m, line 1\u001b[39m\n\u001b[31m    \u001b[39m\u001b[31massert == 4\u001b[39m\n           ^\n\u001b[31mSyntaxError\u001b[39m\u001b[31m:\u001b[39m invalid syntax\n"
     ]
    }
   ],
   "source": [
    "assert == 4"
   ]
  }
 ],
 "metadata": {
  "kernelspec": {
   "display_name": "Python 3",
   "language": "python",
   "name": "python3"
  },
  "language_info": {
   "codemirror_mode": {
    "name": "ipython",
    "version": 3
   },
   "file_extension": ".py",
   "mimetype": "text/x-python",
   "name": "python",
   "nbconvert_exporter": "python",
   "pygments_lexer": "ipython3",
   "version": "3.12.10"
  }
 },
 "nbformat": 4,
 "nbformat_minor": 5
}
