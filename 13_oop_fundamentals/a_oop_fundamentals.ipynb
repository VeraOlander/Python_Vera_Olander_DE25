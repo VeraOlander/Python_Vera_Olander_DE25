{
 "cells": [
  {
   "cell_type": "markdown",
   "id": "d3ef0970",
   "metadata": {},
   "source": [
    "Class Animals: animal 1, animal 2, .....\n",
    "\n",
    "attributes (\"variables\") - egenskaper: # ears, color, # legs\n",
    "\n",
    "methods (\"functions\") - behavior: talk()\n",
    "\n",
    "Idea: group similar things together"
   ]
  },
  {
   "cell_type": "markdown",
   "id": "2f7edaf1",
   "metadata": {},
   "source": [
    "#### OOP fundamentals\n",
    "- object oriented programming"
   ]
  },
  {
   "cell_type": "code",
   "execution_count": 10,
   "id": "d8a3520b",
   "metadata": {},
   "outputs": [
    {
     "data": {
      "text/plain": [
       "'STI'"
      ]
     },
     "execution_count": 10,
     "metadata": {},
     "output_type": "execute_result"
    }
   ],
   "source": [
    "# define a class with name admission\n",
    "class Admission: #syntax to create a class\n",
    "    \n",
    "    # \"dunder init\" - initializer - note 2 underscores before and after init\n",
    "    # this method will be run when you instantiate an instance from this class\n",
    "    def __init__(self, school, name, program=\"cool program\"):\n",
    "       \n",
    "       # set the attributes to the values from the arguments\n",
    "       self.school = school\n",
    "       self.name = name\n",
    "       self.program = program\n",
    "\n",
    "# instantiate the instance person1  that is of type Admission\n",
    "person1 = Admission(\"STI\",\"Ceda\")\n",
    "person1.school\n"
   ]
  },
  {
   "cell_type": "code",
   "execution_count": 12,
   "id": "03a4cd75",
   "metadata": {},
   "outputs": [
    {
     "data": {
      "text/plain": [
       "'cool program'"
      ]
     },
     "execution_count": 12,
     "metadata": {},
     "output_type": "execute_result"
    }
   ],
   "source": [
    "person1.program"
   ]
  },
  {
   "cell_type": "code",
   "execution_count": 14,
   "id": "8658e324",
   "metadata": {},
   "outputs": [
    {
     "data": {
      "text/plain": [
       "'Java'"
      ]
     },
     "execution_count": 14,
     "metadata": {},
     "output_type": "execute_result"
    }
   ],
   "source": [
    "person2 = Admission(name = \"Johnny\", school = \"Cool school\", program = \"Java\")\n",
    "person2.program"
   ]
  },
  {
   "cell_type": "markdown",
   "id": "fa4f8845",
   "metadata": {},
   "source": [
    "## Note on memory \n",
    "\n",
    "By default, the\\_\\_repr\\_\\_ of an instance is showing the memory address of where the instance lives\n",
    "\n",
    "- each instance of the class lives in different memory addresses\n",
    "- they are different objects"
   ]
  },
  {
   "cell_type": "code",
   "execution_count": 15,
   "id": "36847322",
   "metadata": {},
   "outputs": [
    {
     "data": {
      "text/plain": [
       "(<__main__.Admission at 0x25dc5934e00>, <__main__.Admission at 0x25dc5957c50>)"
      ]
     },
     "execution_count": 15,
     "metadata": {},
     "output_type": "execute_result"
    }
   ],
   "source": [
    "person1, person2"
   ]
  },
  {
   "cell_type": "code",
   "execution_count": 16,
   "id": "0193bfa2",
   "metadata": {},
   "outputs": [
    {
     "data": {
      "text/plain": [
       "<__main__.Admission at 0x25dc5955970>"
      ]
     },
     "execution_count": 16,
     "metadata": {},
     "output_type": "execute_result"
    }
   ],
   "source": [
    "person3 = Admission(name = \"Johnny\", school = \"Cool school\", program = \"Java\")\n",
    "person3"
   ]
  },
  {
   "cell_type": "code",
   "execution_count": 47,
   "id": "d9d64f65",
   "metadata": {},
   "outputs": [],
   "source": [
    "class Student: \n",
    "    def __init__(self, name, type_of_study, passed, school, age):\n",
    "       \n",
    "    #attributes  \n",
    "       self.name = name\n",
    "       self.type_of_study = type_of_study\n",
    "       self.passed = passed\n",
    "       self.school = school\n",
    "       self.age = age\n",
    "\n",
    "    #method\n",
    "    def study(self):\n",
    "        print(f\"{self.name} studies {self.type_of_study}\")\n",
    "\n",
    "    def __repr__(self):\n",
    "    #Student(name= \"Bobbo\",type_of_study=\"economics\", school= \"Cool school\", age =31, passed = False)\n",
    "        return f\"Student (name = '{self.name}', tupe of study = '{self.type_of_study}', passed: {self.passed}, school = '{self.school}', age = {self.age})\"\n",
    "\n",
    "s1 = Student(\"Anna\",\"data engineering\", True, \"STI\", 23)\n",
    "s2 = Student(\"Beda\", \"UX\", True, \"STI\", 33)\n",
    "s3 = Student(\n",
    "    name = \"Dadda\",\n",
    "    age=31,\n",
    "    school = \"Cool school\",\n",
    "    passed = False,\n",
    "    type_of_study=\"economics\",\n",
    ")"
   ]
  },
  {
   "cell_type": "code",
   "execution_count": 26,
   "id": "28a5c23b",
   "metadata": {},
   "outputs": [
    {
     "data": {
      "text/plain": [
       "'Dadda'"
      ]
     },
     "execution_count": 26,
     "metadata": {},
     "output_type": "execute_result"
    }
   ],
   "source": [
    "s3.name"
   ]
  },
  {
   "cell_type": "code",
   "execution_count": 30,
   "id": "b06baf10",
   "metadata": {},
   "outputs": [
    {
     "name": "stdout",
     "output_type": "stream",
     "text": [
      "Anna studies data engineering\n"
     ]
    }
   ],
   "source": [
    "s1.study()"
   ]
  },
  {
   "cell_type": "code",
   "execution_count": 31,
   "id": "fc8051dc",
   "metadata": {},
   "outputs": [
    {
     "name": "stdout",
     "output_type": "stream",
     "text": [
      "Anna studies data engineering\n"
     ]
    },
    {
     "data": {
      "text/plain": [
       "NoneType"
      ]
     },
     "execution_count": 31,
     "metadata": {},
     "output_type": "execute_result"
    }
   ],
   "source": [
    "type(s1.study())"
   ]
  },
  {
   "cell_type": "markdown",
   "id": "8c24a6a0",
   "metadata": {},
   "source": [
    "## \\_\\_repr\\_\\_ -dunder repper method\n",
    "- method to represent your class to other developers\n",
    "- usually: describe how to create an instance from this class\n",
    "- by default we get e.g. <__main__.Student at 0x25dc59bb9b0>"
   ]
  },
  {
   "cell_type": "code",
   "execution_count": 48,
   "id": "76bb7ff5",
   "metadata": {},
   "outputs": [
    {
     "data": {
      "text/plain": [
       "Student (name = 'Dadda', tupe of study = 'economics', passed: False, school = 'Cool school', age = 31)"
      ]
     },
     "execution_count": 48,
     "metadata": {},
     "output_type": "execute_result"
    }
   ],
   "source": [
    "s3"
   ]
  }
 ],
 "metadata": {
  "kernelspec": {
   "display_name": "Python 3",
   "language": "python",
   "name": "python3"
  },
  "language_info": {
   "codemirror_mode": {
    "name": "ipython",
    "version": 3
   },
   "file_extension": ".py",
   "mimetype": "text/x-python",
   "name": "python",
   "nbconvert_exporter": "python",
   "pygments_lexer": "ipython3",
   "version": "3.12.10"
  }
 },
 "nbformat": 4,
 "nbformat_minor": 5
}
