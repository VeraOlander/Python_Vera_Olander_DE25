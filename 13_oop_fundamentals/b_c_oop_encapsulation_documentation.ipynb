{
 "cells": [
  {
   "cell_type": "markdown",
   "id": "0b3d173f",
   "metadata": {},
   "source": [
    "# OOP encapsulation\n",
    "\n",
    "- information hiding\n",
    "- user doesn't need to know underlying howit works\n",
    "- for example we can hide validation - e.g. proper age for a person\n",
    "- user of your class needs to know how to use it - i.e. which methods and attributes can be used\n",
    "\n",
    "In general\n",
    "- one way to do encapsulation is to use private attributes and private methods\n",
    "    - these cannot be accessed from outside of the class\n",
    "\n",
    "- however in python there is no such thing as private\n",
    "- in Python - private by convention by using an underscore prefix"
   ]
  },
  {
   "cell_type": "code",
   "execution_count": 3,
   "id": "caa60429",
   "metadata": {},
   "outputs": [
    {
     "data": {
      "text/plain": [
       "('Kokchun', 34)"
      ]
     },
     "execution_count": 3,
     "metadata": {},
     "output_type": "execute_result"
    }
   ],
   "source": [
    "# everything is public\n",
    "class Person:\n",
    "    def __init__(self, name, age):\n",
    "        self.name=name\n",
    "        self.age=age\n",
    "\n",
    "p1=Person(\"Kokchun\", 34)\n",
    "p1.name, p1.age"
   ]
  },
  {
   "cell_type": "code",
   "execution_count": 2,
   "id": "c6b67c04",
   "metadata": {},
   "outputs": [
    {
     "data": {
      "text/plain": [
       "-5"
      ]
     },
     "execution_count": 2,
     "metadata": {},
     "output_type": "execute_result"
    }
   ],
   "source": [
    "p2=Person(\"Ada\",-5)\n",
    "p2.age"
   ]
  },
  {
   "cell_type": "code",
   "execution_count": 5,
   "id": "920d8382",
   "metadata": {},
   "outputs": [
    {
     "ename": "AttributeError",
     "evalue": "'Person' object has no attribute 'name'",
     "output_type": "error",
     "traceback": [
      "\u001b[31m---------------------------------------------------------------------------\u001b[39m",
      "\u001b[31mAttributeError\u001b[39m                            Traceback (most recent call last)",
      "\u001b[36mCell\u001b[39m\u001b[36m \u001b[39m\u001b[32mIn[5]\u001b[39m\u001b[32m, line 7\u001b[39m\n\u001b[32m      4\u001b[39m         \u001b[38;5;28mself\u001b[39m._age=age\n\u001b[32m      6\u001b[39m p3=Person(\u001b[33m\"\u001b[39m\u001b[33mBeda\u001b[39m\u001b[33m\"\u001b[39m,-\u001b[32m3\u001b[39m)\n\u001b[32m----> \u001b[39m\u001b[32m7\u001b[39m \u001b[43mp3\u001b[49m\u001b[43m.\u001b[49m\u001b[43mname\u001b[49m\n",
      "\u001b[31mAttributeError\u001b[39m: 'Person' object has no attribute 'name'"
     ]
    }
   ],
   "source": [
    "class Person:\n",
    "    def __init__(self, name, age):\n",
    "        self._name=name\n",
    "        self._age=age\n",
    "\n",
    "p3=Person(\"Beda\",-3)\n",
    "p3.name"
   ]
  },
  {
   "cell_type": "code",
   "execution_count": null,
   "id": "15638741",
   "metadata": {},
   "outputs": [
    {
     "data": {
      "text/plain": [
       "'Beda'"
      ]
     },
     "execution_count": 6,
     "metadata": {},
     "output_type": "execute_result"
    }
   ],
   "source": [
    "# you should not do this, though you can\n",
    "# python programmers know that underscore prefix is private by convention\n",
    "p3._name"
   ]
  },
  {
   "cell_type": "code",
   "execution_count": null,
   "id": "733d5f01",
   "metadata": {},
   "outputs": [
    {
     "name": "stdout",
     "output_type": "stream",
     "text": [
      "Age must be between 0 and 124\n"
     ]
    },
    {
     "data": {
      "text/plain": [
       "Person('Eda', 5)"
      ]
     },
     "execution_count": 11,
     "metadata": {},
     "output_type": "execute_result"
    }
   ],
   "source": [
    "# fix validation of age - Naive approach\n",
    "class Person:\n",
    "    def __init__(self, name, age):\n",
    "        self._name=name\n",
    "        # issue: this validation happens only during instantiation\n",
    "        if not 0<=age<125:\n",
    "            raise ValueError(\"Age must be between 0 and 124\")\n",
    "\n",
    "\n",
    "        self._age=age\n",
    "\n",
    "\n",
    "    def __repr__(self):\n",
    "        return f\"Person('{self._name}', {self._age})\"\n",
    "try:\n",
    "    p4 = Person(\"Doda\", -5)\n",
    "except ValueError as err:\n",
    "    print(err)\n",
    "\n",
    "\n",
    "p5= Person(\"Eda\",5)\n",
    "p5"
   ]
  },
  {
   "cell_type": "code",
   "execution_count": null,
   "id": "da744596",
   "metadata": {},
   "outputs": [
    {
     "data": {
      "text/plain": [
       "Person('Eda', -5)"
      ]
     },
     "execution_count": 13,
     "metadata": {},
     "output_type": "execute_result"
    }
   ],
   "source": [
    "# this is not good, it happens because validation happens only in __init__ now\n",
    "p5._age=-5\n",
    "p5"
   ]
  },
  {
   "cell_type": "markdown",
   "id": "ff0cf945",
   "metadata": {},
   "source": [
    "## property\n",
    "\n",
    "- getter -> gets a value\n",
    "- setter -> sets a value\n",
    "idea: put in validation code in the setter -> encapsulated validation code"
   ]
  },
  {
   "cell_type": "markdown",
   "id": "61f130ef",
   "metadata": {},
   "source": [
    "### read-only age\n",
    "\n",
    "only the getter is defined that is with @property"
   ]
  },
  {
   "cell_type": "code",
   "execution_count": 20,
   "id": "3b2b5c5d",
   "metadata": {},
   "outputs": [
    {
     "name": "stdout",
     "output_type": "stream",
     "text": [
      "age getter called\n"
     ]
    },
    {
     "data": {
      "text/plain": [
       "8"
      ]
     },
     "execution_count": 20,
     "metadata": {},
     "output_type": "execute_result"
    }
   ],
   "source": [
    "class Person:\n",
    "    def __init__(self, name, age):\n",
    "        self._name=name\n",
    "        # issue: this validation happens only during instantiation\n",
    "        if not 0<=age<125:\n",
    "            raise ValueError(\"Age must be between 0 and 124\")\n",
    "\n",
    "\n",
    "        self._age=age\n",
    "\n",
    "    # a decorator - it gives a function more functionality\n",
    "    # makes it into a property (getter and setter)\n",
    "    @property\n",
    "    def age(self):\n",
    "        print(\"age getter called\")\n",
    "        return self._age\n",
    "    \n",
    "    @age.setter\n",
    "    def age(self, value):\n",
    "        print(\"age setter called\")\n",
    "        self._age=value\n",
    "\n",
    "\n",
    "    def __repr__(self):\n",
    "        return f\"Person('{self._name}', {self._age})\"\n",
    "\n",
    "\n",
    "# when instantiating Person - we use the setter  \n",
    "p7 = Person(\"Bobbo\",8)\n",
    "# use the age getter\n",
    "p7.age"
   ]
  },
  {
   "cell_type": "code",
   "execution_count": 21,
   "id": "7d872a85",
   "metadata": {},
   "outputs": [
    {
     "name": "stdout",
     "output_type": "stream",
     "text": [
      "age setter called\n"
     ]
    },
    {
     "data": {
      "text/plain": [
       "Person('Bobbo', 33)"
      ]
     },
     "execution_count": 21,
     "metadata": {},
     "output_type": "execute_result"
    }
   ],
   "source": [
    "\n",
    "p7.age=33\n",
    "p7\n"
   ]
  },
  {
   "cell_type": "markdown",
   "id": "5dfa3a88",
   "metadata": {},
   "source": [
    "note in other languages:\n",
    "- p7.get_age()\n"
   ]
  },
  {
   "cell_type": "markdown",
   "id": "2d52ac71",
   "metadata": {},
   "source": [
    "## EXERCISE\n",
    "\n",
    "make sure that this is not allowed, give proper error message"
   ]
  },
  {
   "cell_type": "code",
   "execution_count": null,
   "id": "de9bc7c8",
   "metadata": {},
   "outputs": [
    {
     "name": "stdout",
     "output_type": "stream",
     "text": [
      "age setter called\n"
     ]
    },
    {
     "data": {
      "text/plain": [
       "Person('Bobbo', -5)"
      ]
     },
     "execution_count": 22,
     "metadata": {},
     "output_type": "execute_result"
    }
   ],
   "source": [
    "#\n",
    "p7.age=-5\n",
    "p7"
   ]
  },
  {
   "cell_type": "markdown",
   "id": "4d21b364",
   "metadata": {},
   "source": [
    "## SOLUTION"
   ]
  },
  {
   "cell_type": "code",
   "execution_count": null,
   "id": "576eed4a",
   "metadata": {},
   "outputs": [
    {
     "name": "stdout",
     "output_type": "stream",
     "text": [
      "age setter called\n",
      "age setter called\n",
      "Age must be between 0 and 124, not -3\n",
      "age getter called\n"
     ]
    },
    {
     "data": {
      "text/plain": [
       "Person('Dadda', 5)"
      ]
     },
     "execution_count": 39,
     "metadata": {},
     "output_type": "execute_result"
    }
   ],
   "source": [
    "class Person:\n",
    "    def __init__(self, name, age):\n",
    "        self._name=name\n",
    "        # whwnever we do assignment where there is a setter\n",
    "        # the setter will be called\n",
    "        self.age=age\n",
    "\n",
    "\n",
    "\n",
    "    # a decorator - it gives a function more functionality\n",
    "    # makes it into a property (getter and setter)\n",
    "    @property\n",
    "    def age(self):\n",
    "        print(\"age getter called\")\n",
    "        return self._age\n",
    "    \n",
    "    @age.setter\n",
    "    def age(self, value):\n",
    "        print(\"age setter called\")\n",
    "\n",
    "        if not (0<=value<125):\n",
    "            raise ValueError(f\"Age must be between 0 and 124, not {value}\")\n",
    "\n",
    "        self._age=value\n",
    "\n",
    "\n",
    "    def __repr__(self):\n",
    "        return f\"Person('{self._name}', {self.age})\"\n",
    "\n",
    "\n",
    "\n",
    "p9 = Person(\"Dadda\",5)\n",
    "try:\n",
    "    p9.age = -3\n",
    "except ValueError as err:\n",
    "    print(err)\n",
    "\n",
    "p9\n",
    "\n"
   ]
  },
  {
   "cell_type": "code",
   "execution_count": 33,
   "id": "830256aa",
   "metadata": {},
   "outputs": [
    {
     "name": "stdout",
     "output_type": "stream",
     "text": [
      "age setter called\n"
     ]
    },
    {
     "data": {
      "text/plain": [
       "Person('Dodo', 9)"
      ]
     },
     "execution_count": 33,
     "metadata": {},
     "output_type": "execute_result"
    }
   ],
   "source": [
    "p8.age=9\n",
    "p8"
   ]
  },
  {
   "cell_type": "code",
   "execution_count": 40,
   "id": "f4bf1c02",
   "metadata": {},
   "outputs": [
    {
     "name": "stdout",
     "output_type": "stream",
     "text": [
      "age getter called\n"
     ]
    },
    {
     "data": {
      "text/plain": [
       "5"
      ]
     },
     "execution_count": 40,
     "metadata": {},
     "output_type": "execute_result"
    }
   ],
   "source": [
    "p9.age\n"
   ]
  },
  {
   "cell_type": "code",
   "execution_count": 85,
   "id": "2684e101",
   "metadata": {},
   "outputs": [],
   "source": [
    "# Excercise - by myself\n",
    "\n",
    "class Employee:\n",
    "    def __init__(self, name, social_security_nr, salary, role, employment_year):\n",
    "        self.name=name\n",
    "        self._social_security_nr=social_security_nr\n",
    "        self.salary=salary\n",
    "        self.role=role\n",
    "        self.employment_year=employment_year\n",
    "\n",
    "\n",
    "\n",
    "    @property\n",
    "    def salary(self):\n",
    "        return self._salary\n",
    "    \n",
    "    @salary.setter\n",
    "    def salary(self, value):   \n",
    "        if value<=0:\n",
    "            raise ValueError(f\"Salary cannot be negative as {value}\")\n",
    "        self._salary=value\n",
    "\n",
    "    #method\n",
    "    def increase_salary(self, employment_year):\n",
    "        if employment_year<=2025:\n",
    "            print(f\"Time to increase salary for {self.name}\")\n",
    "        else:\n",
    "            print(f\"Current salary is ok for {self.name}\")\n",
    "\n",
    "\n",
    "    def __repr__(self):\n",
    "        return f\"Employee'{self.name}', earns {self.salary}, works as '{self.role}', employed {self.employment_year}\"\n",
    "\n",
    "\n",
    "employee1=Employee(\"Anna Svensson\",199901012233, 25000, \"accountant\", 2024)\n",
    "employee2=Employee(\"John Smith\", 198802023434, 45000, \"administrator\", 2025)\n",
    "\n",
    "\n"
   ]
  },
  {
   "cell_type": "code",
   "execution_count": 77,
   "id": "7c829900",
   "metadata": {},
   "outputs": [
    {
     "data": {
      "text/plain": [
       "Employee'Anna Svensson', earns 25000, works as 'accountant', employed 2024"
      ]
     },
     "execution_count": 77,
     "metadata": {},
     "output_type": "execute_result"
    }
   ],
   "source": [
    "employee1\n"
   ]
  },
  {
   "cell_type": "code",
   "execution_count": 80,
   "id": "20fe0850",
   "metadata": {},
   "outputs": [
    {
     "data": {
      "text/plain": [
       "Employee'Anna Svensson', earns 50000, works as 'accountant', employed 2024"
      ]
     },
     "execution_count": 80,
     "metadata": {},
     "output_type": "execute_result"
    }
   ],
   "source": [
    "employee1.salary=50000\n",
    "employee1\n"
   ]
  },
  {
   "cell_type": "code",
   "execution_count": 81,
   "id": "d558b90b",
   "metadata": {},
   "outputs": [
    {
     "name": "stdout",
     "output_type": "stream",
     "text": [
      "Time to increase salary for Anna Svensson\n"
     ]
    }
   ],
   "source": [
    "employee1.increase_salary(employee1.employment_year)"
   ]
  },
  {
   "cell_type": "code",
   "execution_count": 83,
   "id": "23ad266e",
   "metadata": {},
   "outputs": [
    {
     "data": {
      "text/plain": [
       "Employee'John Smith', earns 45000, works as 'administrator', employed 2025"
      ]
     },
     "execution_count": 83,
     "metadata": {},
     "output_type": "execute_result"
    }
   ],
   "source": [
    "employee2"
   ]
  },
  {
   "cell_type": "code",
   "execution_count": 84,
   "id": "f9a86b24",
   "metadata": {},
   "outputs": [
    {
     "ename": "ValueError",
     "evalue": "Salary cannot be negative as -50000",
     "output_type": "error",
     "traceback": [
      "\u001b[31m---------------------------------------------------------------------------\u001b[39m",
      "\u001b[31mValueError\u001b[39m                                Traceback (most recent call last)",
      "\u001b[36mCell\u001b[39m\u001b[36m \u001b[39m\u001b[32mIn[84]\u001b[39m\u001b[32m, line 1\u001b[39m\n\u001b[32m----> \u001b[39m\u001b[32m1\u001b[39m \u001b[43memployee2\u001b[49m\u001b[43m.\u001b[49m\u001b[43msalary\u001b[49m=-\u001b[32m50000\u001b[39m\n",
      "\u001b[36mCell\u001b[39m\u001b[36m \u001b[39m\u001b[32mIn[76]\u001b[39m\u001b[32m, line 20\u001b[39m, in \u001b[36mEmployee.salary\u001b[39m\u001b[34m(self, value)\u001b[39m\n\u001b[32m     17\u001b[39m \u001b[38;5;129m@salary\u001b[39m.setter\n\u001b[32m     18\u001b[39m \u001b[38;5;28;01mdef\u001b[39;00m\u001b[38;5;250m \u001b[39m\u001b[34msalary\u001b[39m(\u001b[38;5;28mself\u001b[39m, value):   \n\u001b[32m     19\u001b[39m     \u001b[38;5;28;01mif\u001b[39;00m value<=\u001b[32m0\u001b[39m:\n\u001b[32m---> \u001b[39m\u001b[32m20\u001b[39m         \u001b[38;5;28;01mraise\u001b[39;00m \u001b[38;5;167;01mValueError\u001b[39;00m(\u001b[33mf\u001b[39m\u001b[33m\"\u001b[39m\u001b[33mSalary cannot be negative as \u001b[39m\u001b[38;5;132;01m{\u001b[39;00mvalue\u001b[38;5;132;01m}\u001b[39;00m\u001b[33m\"\u001b[39m)\n\u001b[32m     21\u001b[39m     \u001b[38;5;28mself\u001b[39m._salary=value\n",
      "\u001b[31mValueError\u001b[39m: Salary cannot be negative as -50000"
     ]
    }
   ],
   "source": [
    "employee2.salary=-50000"
   ]
  },
  {
   "cell_type": "code",
   "execution_count": 90,
   "id": "fd2f1498",
   "metadata": {},
   "outputs": [
    {
     "data": {
      "text/plain": [
       "Employee (Cicci, 2002123012222 earns 25000, works as 'Säljare', employed 2024"
      ]
     },
     "execution_count": 90,
     "metadata": {},
     "output_type": "execute_result"
    }
   ],
   "source": [
    "# Excercise - by Kokchun - version 1 \n",
    "\n",
    "class Employee:\n",
    "    def __init__(self, name, social_security_nr, salary, role, employment_year):\n",
    "        self.name=name\n",
    "        self._social_security_nr=social_security_nr\n",
    "        self.salary=salary\n",
    "        self.role=role\n",
    "        self.employment_year=employment_year\n",
    "\n",
    "    def __repr__(self):\n",
    "        return f\"Employee ({self.name}, {self._social_security_nr} earns {self.salary}, works as '{self.role}', employed {self.employment_year}\"\n",
    "\n",
    "e1=Employee(\"Cicci\",2002123012222, 25000, \"Säljare\", 2024)\n",
    "e1\n"
   ]
  },
  {
   "cell_type": "code",
   "execution_count": null,
   "id": "737512ae",
   "metadata": {},
   "outputs": [
    {
     "data": {
      "text/plain": [
       "Employee (Cicci, 2002123012222 earns 30000, works as 'Säljare', employed 2024"
      ]
     },
     "execution_count": 91,
     "metadata": {},
     "output_type": "execute_result"
    }
   ],
   "source": [
    "# Excercise - by Kokchun - version 2\n",
    "\n",
    "class Employee:\n",
    "    def __init__(self, name, social_security_nr, salary, role, employment_year):\n",
    "        self.name=name\n",
    "        self._social_security_nr=social_security_nr\n",
    "        self.salary=salary\n",
    "        self.role=role\n",
    "        self.employment_year=employment_year\n",
    "\n",
    "    def __repr__(self):\n",
    "        return f\"Employee ({self.name}, {self._social_security_nr} earns {self.salary}, works as '{self.role}', employed {self.employment_year}\"\n",
    "\n",
    "    #method\n",
    "    def increase_salary(self, value):\n",
    "        self.salary +=value\n",
    "\n",
    "\n",
    "\n",
    "e1=Employee(\"Cicci\",2002123012222, 25000, \"Säljare\", 2024)\n",
    "e1.increase_salary(5000)\n",
    "e1"
   ]
  },
  {
   "cell_type": "markdown",
   "id": "1b23ee70",
   "metadata": {},
   "source": []
  },
  {
   "cell_type": "code",
   "execution_count": 104,
   "id": "5478da25",
   "metadata": {},
   "outputs": [
    {
     "name": "stdout",
     "output_type": "stream",
     "text": [
      "Salary cannot be negative, you input -25000\n"
     ]
    },
    {
     "ename": "NameError",
     "evalue": "name 'e2' is not defined",
     "output_type": "error",
     "traceback": [
      "\u001b[31m---------------------------------------------------------------------------\u001b[39m",
      "\u001b[31mNameError\u001b[39m                                 Traceback (most recent call last)",
      "\u001b[36mCell\u001b[39m\u001b[36m \u001b[39m\u001b[32mIn[104]\u001b[39m\u001b[32m, line 49\u001b[39m\n\u001b[32m     47\u001b[39m \u001b[38;5;28;01mexcept\u001b[39;00m \u001b[38;5;167;01mValueError\u001b[39;00m \u001b[38;5;28;01mas\u001b[39;00m err:\n\u001b[32m     48\u001b[39m     \u001b[38;5;28mprint\u001b[39m(err)\n\u001b[32m---> \u001b[39m\u001b[32m49\u001b[39m \u001b[43me2\u001b[49m.increase_salary(\u001b[32m5000\u001b[39m)\n\u001b[32m     50\u001b[39m e2\n",
      "\u001b[31mNameError\u001b[39m: name 'e2' is not defined"
     ]
    }
   ],
   "source": [
    "# Excercise - by Kokchun - version 3\n",
    "\n",
    "class Employee:\n",
    "    \"\"\"\n",
    "    A class to hold employee information\n",
    "     Attributes:\n",
    "     - name (str): name of the person\n",
    "     - social sec nr (int): the social sec nr of a person in 12 digits\n",
    "     - salary (int): salary in SEK, larger than 0\n",
    "     ...\n",
    "    Methods:\n",
    "    - increase_salary(value): increases the salary of an employee with value SEK\n",
    "\n",
    "    Example usage:\n",
    "    >>> e1=Employee(\"Diddi\",2002123012222, 25000, \"Säljare\", 2024)\n",
    "    >>> e1.increase_salary(5000)\n",
    "    >>> e1.salary\n",
    "     \"\"\"\n",
    "    def __init__(self, name: str, social_security_nr: int, salary: int, role: str, employment_year: int):\n",
    "        self.name=name\n",
    "        self._social_security_nr=social_security_nr\n",
    "        self.salary=salary\n",
    "        self.role=role\n",
    "        self.employment_year=employment_year\n",
    "\n",
    "    def __repr__(self):\n",
    "        return f\"Employee ({self.name}, {self._social_security_nr} earns {self.salary}, works as '{self.role}', employed {self.employment_year})\"\n",
    "\n",
    "    @property\n",
    "    def salary(self):\n",
    "        # return the private backing variable\n",
    "        return self._salary\n",
    "    \n",
    "    @salary.setter\n",
    "    def salary(self, value):   \n",
    "        if value<=0:\n",
    "            raise ValueError(f\"Salary cannot be negative, you input {value}\")\n",
    "        self._salary=value\n",
    "\n",
    "    #method\n",
    "    def increase_salary(self, value):\n",
    "        self.salary +=value\n",
    "\n",
    "\n",
    "try:\n",
    "    e2=Employee(\"Diddi\",2002123012222, -25000, \"Säljare\", 2024)\n",
    "except ValueError as err:\n",
    "    print(err)\n",
    "e2.increase_salary(5000)\n",
    "e2"
   ]
  },
  {
   "cell_type": "code",
   "execution_count": null,
   "id": "1b58790e",
   "metadata": {},
   "outputs": [
    {
     "data": {
      "text/plain": [
       "Employee (1, 1 earns 1, works as '1', employed 1)"
      ]
     },
     "execution_count": 103,
     "metadata": {},
     "output_type": "execute_result"
    }
   ],
   "source": [
    "# possible because type hints are not enforcable\n",
    "Employee(1,1,1,1,1)"
   ]
  },
  {
   "cell_type": "code",
   "execution_count": 105,
   "id": "f1a9d400",
   "metadata": {},
   "outputs": [
    {
     "name": "stdout",
     "output_type": "stream",
     "text": [
      "Help on class Employee in module __main__:\n",
      "\n",
      "class Employee(builtins.object)\n",
      " |  Employee(name: str, social_security_nr: int, salary: int, role: str, employment_year: int)\n",
      " |\n",
      " |  A class to hold employee information\n",
      " |   Attributes:\n",
      " |   - name (str): name of the person\n",
      " |   - social sec nr (int): the social sec nr of a person in 12 digits\n",
      " |   - salary (int): salary in SEK, larger than 0\n",
      " |   ...\n",
      " |  Methods:\n",
      " |  - increase_salary(value): increases the salary of an employee with value SEK\n",
      " |\n",
      " |  Example usage:\n",
      " |  >>> e1=Employee(\"Diddi\",2002123012222, 25000, \"Säljare\", 2024)\n",
      " |  >>> e1.increase_salary(5000)\n",
      " |  >>> e1.salary\n",
      " |\n",
      " |  Methods defined here:\n",
      " |\n",
      " |  __init__(self, name: str, social_security_nr: int, salary: int, role: str, employment_year: int)\n",
      " |      Initialize self.  See help(type(self)) for accurate signature.\n",
      " |\n",
      " |  __repr__(self)\n",
      " |      Return repr(self).\n",
      " |\n",
      " |  increase_salary(self, value)\n",
      " |      #method\n",
      " |\n",
      " |  ----------------------------------------------------------------------\n",
      " |  Data descriptors defined here:\n",
      " |\n",
      " |  __dict__\n",
      " |      dictionary for instance variables\n",
      " |\n",
      " |  __weakref__\n",
      " |      list of weak references to the object\n",
      " |\n",
      " |  salary\n",
      "\n"
     ]
    }
   ],
   "source": [
    "help(Employee)"
   ]
  }
 ],
 "metadata": {
  "kernelspec": {
   "display_name": "Python 3",
   "language": "python",
   "name": "python3"
  },
  "language_info": {
   "codemirror_mode": {
    "name": "ipython",
    "version": 3
   },
   "file_extension": ".py",
   "mimetype": "text/x-python",
   "name": "python",
   "nbconvert_exporter": "python",
   "pygments_lexer": "ipython3",
   "version": "3.12.10"
  }
 },
 "nbformat": 4,
 "nbformat_minor": 5
}
