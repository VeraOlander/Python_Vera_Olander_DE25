{
 "cells": [
  {
   "cell_type": "markdown",
   "id": "d6c46f34",
   "metadata": {},
   "source": [
    "Lecture 11 -Functions\n",
    "- for reusable codes\n",
    "\n",
    "### Créate a function and understand terminology"
   ]
  },
  {
   "cell_type": "code",
   "execution_count": null,
   "id": "61e54db5",
   "metadata": {},
   "outputs": [],
   "source": [
    "# create a simple example of functions\n",
    "def squarer(x): # use keyword def (define); squarer is the function name; x - parameter\n",
    "    result = x**2 # statements\n",
    "    return result # return block returns the output"
   ]
  },
  {
   "cell_type": "code",
   "execution_count": null,
   "id": "9900d6bf",
   "metadata": {},
   "outputs": [
    {
     "data": {
      "text/plain": [
       "4"
      ]
     },
     "execution_count": 3,
     "metadata": {},
     "output_type": "execute_result"
    }
   ],
   "source": [
    "# call for a function\n",
    "squarer(2) #cite the function name; () is called the callable; argument\n"
   ]
  },
  {
   "cell_type": "markdown",
   "id": "a68845e4",
   "metadata": {},
   "source": [
    "##### Positional argument"
   ]
  },
  {
   "cell_type": "code",
   "execution_count": 11,
   "id": "d1a97ad5",
   "metadata": {},
   "outputs": [],
   "source": [
    "def my_fruits(fruit_like, fruit_hate):\n",
    "    print(f\"I like to eat {fruit_like}\")\n",
    "    print(f\"But I hate to eat {fruit_hate}\")\n",
    "    return None #python will add this line if you don'thave return block"
   ]
  },
  {
   "cell_type": "code",
   "execution_count": 7,
   "id": "59115acf",
   "metadata": {},
   "outputs": [
    {
     "name": "stdout",
     "output_type": "stream",
     "text": [
      "I like to eat apple\n",
      "But I hate to eat orange\n"
     ]
    }
   ],
   "source": [
    "#suppose I like to eat orange and hate to eat apple\n",
    "# check out what is the problem in the order of the arguments below\n",
    "my_fruits(\"apple\", \"orange\")\n",
    "          "
   ]
  },
  {
   "cell_type": "markdown",
   "id": "f45442c2",
   "metadata": {},
   "source": [
    "##### Keyword argument "
   ]
  },
  {
   "cell_type": "code",
   "execution_count": 10,
   "id": "c386c24c",
   "metadata": {},
   "outputs": [
    {
     "name": "stdout",
     "output_type": "stream",
     "text": [
      "I like to eat orange\n",
      "But I hate to eat apple\n"
     ]
    }
   ],
   "source": [
    "# if you don't want to depend on position of arguments, provide also the parameter names\n",
    "my_fruits(fruit_hate=\"apple\", fruit_like=\"orange\")"
   ]
  },
  {
   "cell_type": "code",
   "execution_count": null,
   "id": "b1ad576f",
   "metadata": {},
   "outputs": [
    {
     "ename": "TypeError",
     "evalue": "my_fruits() takes 2 positional arguments but 3 were given",
     "output_type": "error",
     "traceback": [
      "\u001b[31m---------------------------------------------------------------------------\u001b[39m",
      "\u001b[31mTypeError\u001b[39m                                 Traceback (most recent call last)",
      "\u001b[36mCell\u001b[39m\u001b[36m \u001b[39m\u001b[32mIn[12]\u001b[39m\u001b[32m, line 2\u001b[39m\n\u001b[32m      1\u001b[39m \u001b[38;5;66;03m# what if I provide three fruits\u001b[39;00m\n\u001b[32m----> \u001b[39m\u001b[32m2\u001b[39m \u001b[43mmy_fruits\u001b[49m\u001b[43m(\u001b[49m\u001b[33;43m\"\u001b[39;49m\u001b[33;43mapple\u001b[39;49m\u001b[33;43m\"\u001b[39;49m\u001b[43m,\u001b[49m\u001b[43m \u001b[49m\u001b[33;43m\"\u001b[39;49m\u001b[33;43morange\u001b[39;49m\u001b[33;43m\"\u001b[39;49m\u001b[43m,\u001b[49m\u001b[33;43m\"\u001b[39;49m\u001b[33;43mstrawberry\u001b[39;49m\u001b[33;43m\"\u001b[39;49m\u001b[43m)\u001b[49m\n",
      "\u001b[31mTypeError\u001b[39m: my_fruits() takes 2 positional arguments but 3 were given"
     ]
    }
   ],
   "source": [
    "# what if I provide three fruits\n",
    "# due to the errors we need to think about other ways to take \n",
    "my_fruits(\"apple\", \"orange\",\"strawberry\")"
   ]
  },
  {
   "cell_type": "markdown",
   "id": "6c9b008e",
   "metadata": {},
   "source": [
    "#####  Unknown number of positional arguments"
   ]
  },
  {
   "cell_type": "code",
   "execution_count": 4,
   "id": "38d6fa16",
   "metadata": {},
   "outputs": [],
   "source": [
    "# suppose that I want to print out all fruits that are input as argument to a function\n",
    "# we will use a symbol * in the parameter\n",
    "\n",
    "def print_fruits(*fruits): # * has 2 meanings: positional arguments, the number of arguments will be unknown\n",
    "    for fruit in fruits:\n",
    "        print(fruit)\n",
    "    return type(fruits)"
   ]
  },
  {
   "cell_type": "code",
   "execution_count": 5,
   "id": "054b28ce",
   "metadata": {},
   "outputs": [
    {
     "name": "stdout",
     "output_type": "stream",
     "text": [
      "apple\n",
      "orange\n",
      "kiwi\n",
      "strawberry\n"
     ]
    },
    {
     "data": {
      "text/plain": [
       "tuple"
      ]
     },
     "execution_count": 5,
     "metadata": {},
     "output_type": "execute_result"
    }
   ],
   "source": [
    "print_fruits(\"apple\", \"orange\", \"kiwi\",\"strawberry\")"
   ]
  },
  {
   "cell_type": "markdown",
   "id": "9a71e204",
   "metadata": {},
   "source": [
    "#####  Unknown number of keyword arguments"
   ]
  },
  {
   "cell_type": "code",
   "execution_count": 6,
   "id": "12aaf182",
   "metadata": {},
   "outputs": [],
   "source": [
    "def print_nr_fruit(**fruits):\n",
    "    for key, value in fruits.items():\n",
    "        print(key, value)\n",
    "    return type(fruits)"
   ]
  },
  {
   "cell_type": "code",
   "execution_count": 7,
   "id": "54cb5465",
   "metadata": {},
   "outputs": [
    {
     "name": "stdout",
     "output_type": "stream",
     "text": [
      "fruit1 orange\n",
      "fruit2 apple\n"
     ]
    },
    {
     "data": {
      "text/plain": [
       "dict"
      ]
     },
     "execution_count": 7,
     "metadata": {},
     "output_type": "execute_result"
    }
   ],
   "source": [
    "print_nr_fruit(fruit1=\"orange\", fruit2=\"apple\") # key is provided when calling for the function"
   ]
  }
 ],
 "metadata": {
  "kernelspec": {
   "display_name": "Python_Vera_Olander_DE25",
   "language": "python",
   "name": "python3"
  },
  "language_info": {
   "codemirror_mode": {
    "name": "ipython",
    "version": 3
   },
   "file_extension": ".py",
   "mimetype": "text/x-python",
   "name": "python",
   "nbconvert_exporter": "python",
   "pygments_lexer": "ipython3",
   "version": "3.12.10"
  }
 },
 "nbformat": 4,
 "nbformat_minor": 5
}
